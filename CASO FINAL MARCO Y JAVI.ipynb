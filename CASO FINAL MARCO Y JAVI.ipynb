{
 "cells": [
  {
   "cell_type": "markdown",
   "id": "0f8d6fdd",
   "metadata": {},
   "source": [
    "# CASO FINAL: ANÁLISIS DE PORTAFOLIO \n",
    "####\n",
    "### Nombres: Marco Ocampo y Javier Hernández\n",
    "### Curso: Python for Finance\n",
    "### Fecha: 22 de noviembre del 2023"
   ]
  },
  {
   "cell_type": "code",
   "execution_count": 2,
   "id": "ce72ba62",
   "metadata": {},
   "outputs": [],
   "source": [
    "### Cargamos las respectivas librerías para llevar a cabo el análisis de portafolios\n",
    "\n",
    "import numpy as np\n",
    "import plotly.express as px\n",
    "import yfinance as yf\n",
    "import datetime\n",
    "import pyfolio as pf\n",
    "\n",
    "import scipy.stats as stats\n",
    "import matplotlib.pyplot as plt\n",
    "import math\n",
    "from pypfopt import risk_models\n",
    "from pypfopt import expected_returns\n",
    "from pypfopt.efficient_frontier import EfficientFrontier"
   ]
  },
  {
   "cell_type": "code",
   "execution_count": 7,
   "id": "fc0d7997",
   "metadata": {},
   "outputs": [],
   "source": [
    "import datetime"
   ]
  },
  {
   "cell_type": "code",
   "execution_count": 4,
   "id": "f69d29dc",
   "metadata": {},
   "outputs": [],
   "source": [
    "### Cargamos las librerías para hacer los dashboards\n",
    "\n",
    "from selenium import webdriver\n",
    "from selenium.webdriver.chrome.service import Service\n",
    "from selenium.webdriver.support.ui import Select\n",
    "from selenium.webdriver.common.by import By\n",
    "from datetime import datetime\n",
    "import dash\n",
    "\n",
    "from dash import dcc\n",
    "from dash import html\n",
    "from dash import dash_table\n",
    "from dash.dependencies import Input, Output\n",
    "import plotly.express as px\n",
    "import pandas as pd\n",
    "import dash_bootstrap_components as dbc"
   ]
  },
  {
   "cell_type": "code",
   "execution_count": 5,
   "id": "3a9ebe72",
   "metadata": {},
   "outputs": [
    {
     "name": "stdout",
     "output_type": "stream",
     "text": [
      "Requirement already satisfied: PyPortfolioOpt in c:\\users\\marco\\anaconda3\\lib\\site-packages (1.5.5)\n",
      "Requirement already satisfied: cvxpy<2.0.0,>=1.1.19 in c:\\users\\marco\\anaconda3\\lib\\site-packages (from PyPortfolioOpt) (1.4.1)\n",
      "Requirement already satisfied: numpy<2.0.0,>=1.22.4 in c:\\users\\marco\\anaconda3\\lib\\site-packages (from PyPortfolioOpt) (1.24.3)\n",
      "Requirement already satisfied: pandas>=0.19 in c:\\users\\marco\\anaconda3\\lib\\site-packages (from PyPortfolioOpt) (1.5.3)\n",
      "Requirement already satisfied: scipy<2.0,>=1.3 in c:\\users\\marco\\anaconda3\\lib\\site-packages (from PyPortfolioOpt) (1.10.1)\n",
      "Requirement already satisfied: osqp>=0.6.2 in c:\\users\\marco\\anaconda3\\lib\\site-packages (from cvxpy<2.0.0,>=1.1.19->PyPortfolioOpt) (0.6.3)\n",
      "Requirement already satisfied: ecos>=2 in c:\\users\\marco\\anaconda3\\lib\\site-packages (from cvxpy<2.0.0,>=1.1.19->PyPortfolioOpt) (2.0.12)\n",
      "Requirement already satisfied: clarabel>=0.5.0 in c:\\users\\marco\\anaconda3\\lib\\site-packages (from cvxpy<2.0.0,>=1.1.19->PyPortfolioOpt) (0.6.0)\n",
      "Requirement already satisfied: scs>=3.0 in c:\\users\\marco\\anaconda3\\lib\\site-packages (from cvxpy<2.0.0,>=1.1.19->PyPortfolioOpt) (3.2.4.post1)\n",
      "Requirement already satisfied: pybind11 in c:\\users\\marco\\anaconda3\\lib\\site-packages (from cvxpy<2.0.0,>=1.1.19->PyPortfolioOpt) (2.11.1)\n",
      "Requirement already satisfied: python-dateutil>=2.8.1 in c:\\users\\marco\\anaconda3\\lib\\site-packages (from pandas>=0.19->PyPortfolioOpt) (2.8.2)\n",
      "Requirement already satisfied: pytz>=2020.1 in c:\\users\\marco\\anaconda3\\lib\\site-packages (from pandas>=0.19->PyPortfolioOpt) (2022.7)\n",
      "Requirement already satisfied: qdldl in c:\\users\\marco\\anaconda3\\lib\\site-packages (from osqp>=0.6.2->cvxpy<2.0.0,>=1.1.19->PyPortfolioOpt) (0.1.7.post0)\n",
      "Requirement already satisfied: six>=1.5 in c:\\users\\marco\\anaconda3\\lib\\site-packages (from python-dateutil>=2.8.1->pandas>=0.19->PyPortfolioOpt) (1.16.0)\n",
      "Note: you may need to restart the kernel to use updated packages.\n"
     ]
    }
   ],
   "source": [
    "pip install PyPortfolioOpt"
   ]
  },
  {
   "cell_type": "markdown",
   "id": "50c45e8d",
   "metadata": {},
   "source": [
    "## PARTE 1:"
   ]
  },
  {
   "cell_type": "markdown",
   "id": "7faf6f7a",
   "metadata": {},
   "source": [
    "### Empresas del sector consumo masivo\n",
    "\n",
    "#### Nestle [NSRGY]:\n",
    "\n",
    "Sub-Industria: Alimentación y bebidas, cuidado de la salud.\n",
    "Descripción: Nestlé es una multinacional suiza de alimentos y bebidas. Es conocida por su amplia variedad de productos que abarcan desde alimentos infantiles y chocolates hasta café, productos lácteos, alimentos para mascotas y productos de cuidado de la salud. Nestlé es una de las mayores empresas de alimentos y bebidas del mundo.\n",
    "\n",
    "#### Walmart [WMT]:\n",
    "\n",
    "Sub-Industria: Retail, supermercados.\n",
    "Descripción: Walmart es la cadena minorista más grande del mundo. Fundada en Estados Unidos, opera tiendas minoristas bajo diferentes formatos, que incluyen supercentros, tiendas de descuento y clubes de almacenes. Walmart ofrece una amplia variedad de productos, desde comestibles y ropa hasta electrónicos y artículos para el hogar. Además de sus operaciones en tiendas físicas, Walmart ha expandido su presencia en el comercio electrónico.\n",
    "\n",
    "#### Johnson & Johnson [JNJ]:|\n",
    "\n",
    "Sub-Industria: Cuidado de la salud, productos farmacéuticos, productos de consumo.\n",
    "Descripción: Johnson & Johnson es una empresa multinacional estadounidense que se especializa en productos relacionados con la salud y el bienestar. Opera en tres segmentos principales: productos farmacéuticos, dispositivos médicos y productos de consumo. La compañía es conocida por marcas emblemáticas como Band-Aid, Tylenol, Neutrogena y sus contribuciones a la investigación y desarrollo de medicamentos y dispositivos médicos. Además de su enfoque en la salud, Johnson & Johnson también tiene divisiones que se centran en la investigación y desarrollo de tecnologías médicas avanzadas."
   ]
  },
  {
   "cell_type": "markdown",
   "id": "5fa0f1a2",
   "metadata": {},
   "source": [
    "### Empresas del sector de Producción industrial\n",
    "\n",
    "#### Siemens AG [SIEGY]\n",
    "\n",
    "Sub-Industria: Tecnología Industrial / Equipos y Maquinaria Industriales.\n",
    "Descripción: Siemens AG es una empresa alemana líder en tecnología industrial. Se centra en el desarrollo y fabricación de equipos y maquinaria industrial, sistemas de automatización y control, soluciones para la generación y distribución de energía, así como tecnologías para la movilidad y la salud. La compañía juega un papel fundamental en diversos sectores, desde la fabricación hasta la infraestructura y la atención médica.\n",
    "\n",
    "#### 3M [MMM]\n",
    "\n",
    "Sub-Industria: Productos industriales / Bienes Diversificados.\n",
    "Descripción: 3M es una empresa estadounidense diversificada que opera en múltiples industrias. Se destaca por su innovación en productos de consumo, bienes industriales, salud y seguridad, electrónica, entre otros. 3M es conocida por su amplia gama de productos, desde cintas adhesivas y productos de oficina hasta soluciones avanzadas en tecnologías industriales y de cuidado de la salud.\n",
    "\n",
    "#### Lockheed Martin [LMT]\n",
    "\n",
    "Sub-Industria: Aeroespacial y Defensa.\n",
    "Descripción: Lockheed Martin es una empresa estadounidense líder en la industria aeroespacial y de defensa. Especializada en el diseño y fabricación de sistemas aeroespaciales, incluyendo aviones de combate, sistemas de misiles, tecnologías espaciales y equipos de defensa. Lockheed Martin es un contratista clave del gobierno de los Estados Unidos y está involucrado en proyectos aeroespaciales y de defensa a nivel mundial.\n"
   ]
  },
  {
   "cell_type": "markdown",
   "id": "2ccc36b4",
   "metadata": {},
   "source": [
    "# Parte 2:"
   ]
  },
  {
   "cell_type": "code",
   "execution_count": 134,
   "id": "7c59ff7e",
   "metadata": {},
   "outputs": [
    {
     "name": "stdout",
     "output_type": "stream",
     "text": [
      "['NSRGY', 'WMT', 'JNJ', 'SIEGY', 'MMM', 'LMT']\n",
      "2023-11-22 22:47:05.812790\n",
      "2018-11-23 22:47:05.812790\n"
     ]
    }
   ],
   "source": [
    "# Definir las acciones (tickers)\n",
    "stocks = [\"NSRGY\", \"WMT\", \"JNJ\", \"SIEGY\", \"MMM\", \"LMT\"]\n",
    "print(stocks)\n",
    "\n",
    "#Definir las fechas de las observaciones:\n",
    "\n",
    "end= datetime.datetime.now() #Que jale hasta hoy (los días* años)\n",
    "start= end - datetime.timedelta(days=365*5)\n",
    "print(end)\n",
    "print(start)"
   ]
  },
  {
   "cell_type": "code",
   "execution_count": 135,
   "id": "31f6e9ae",
   "metadata": {},
   "outputs": [
    {
     "name": "stdout",
     "output_type": "stream",
     "text": [
      "[*********************100%%**********************]  6 of 6 completed\n"
     ]
    },
    {
     "data": {
      "text/html": [
       "<div>\n",
       "<style scoped>\n",
       "    .dataframe tbody tr th:only-of-type {\n",
       "        vertical-align: middle;\n",
       "    }\n",
       "\n",
       "    .dataframe tbody tr th {\n",
       "        vertical-align: top;\n",
       "    }\n",
       "\n",
       "    .dataframe thead th {\n",
       "        text-align: right;\n",
       "    }\n",
       "</style>\n",
       "<table border=\"1\" class=\"dataframe\">\n",
       "  <thead>\n",
       "    <tr style=\"text-align: right;\">\n",
       "      <th></th>\n",
       "      <th>JNJ</th>\n",
       "      <th>LMT</th>\n",
       "      <th>MMM</th>\n",
       "      <th>NSRGY</th>\n",
       "      <th>SIEGY</th>\n",
       "      <th>WMT</th>\n",
       "    </tr>\n",
       "    <tr>\n",
       "      <th>Date</th>\n",
       "      <th></th>\n",
       "      <th></th>\n",
       "      <th></th>\n",
       "      <th></th>\n",
       "      <th></th>\n",
       "      <th></th>\n",
       "    </tr>\n",
       "  </thead>\n",
       "  <tbody>\n",
       "    <tr>\n",
       "      <th>2018-11-26</th>\n",
       "      <td>123.475273</td>\n",
       "      <td>258.371918</td>\n",
       "      <td>163.440094</td>\n",
       "      <td>76.606544</td>\n",
       "      <td>49.784264</td>\n",
       "      <td>87.409309</td>\n",
       "    </tr>\n",
       "    <tr>\n",
       "      <th>2018-11-27</th>\n",
       "      <td>125.091095</td>\n",
       "      <td>258.380707</td>\n",
       "      <td>164.118851</td>\n",
       "      <td>76.733231</td>\n",
       "      <td>49.579105</td>\n",
       "      <td>87.308258</td>\n",
       "    </tr>\n",
       "    <tr>\n",
       "      <th>2018-11-28</th>\n",
       "      <td>127.903481</td>\n",
       "      <td>262.449524</td>\n",
       "      <td>167.103714</td>\n",
       "      <td>76.959442</td>\n",
       "      <td>50.109089</td>\n",
       "      <td>89.531364</td>\n",
       "    </tr>\n",
       "    <tr>\n",
       "      <th>2018-11-29</th>\n",
       "      <td>127.388176</td>\n",
       "      <td>264.619476</td>\n",
       "      <td>167.283646</td>\n",
       "      <td>77.267097</td>\n",
       "      <td>49.878292</td>\n",
       "      <td>89.375214</td>\n",
       "    </tr>\n",
       "    <tr>\n",
       "      <th>2018-11-30</th>\n",
       "      <td>128.305252</td>\n",
       "      <td>264.804565</td>\n",
       "      <td>170.031357</td>\n",
       "      <td>77.113274</td>\n",
       "      <td>49.613304</td>\n",
       "      <td>89.705940</td>\n",
       "    </tr>\n",
       "  </tbody>\n",
       "</table>\n",
       "</div>"
      ],
      "text/plain": [
       "                   JNJ         LMT         MMM      NSRGY      SIEGY  \\\n",
       "Date                                                                   \n",
       "2018-11-26  123.475273  258.371918  163.440094  76.606544  49.784264   \n",
       "2018-11-27  125.091095  258.380707  164.118851  76.733231  49.579105   \n",
       "2018-11-28  127.903481  262.449524  167.103714  76.959442  50.109089   \n",
       "2018-11-29  127.388176  264.619476  167.283646  77.267097  49.878292   \n",
       "2018-11-30  128.305252  264.804565  170.031357  77.113274  49.613304   \n",
       "\n",
       "                  WMT  \n",
       "Date                   \n",
       "2018-11-26  87.409309  \n",
       "2018-11-27  87.308258  \n",
       "2018-11-28  89.531364  \n",
       "2018-11-29  89.375214  \n",
       "2018-11-30  89.705940  "
      ]
     },
     "execution_count": 135,
     "metadata": {},
     "output_type": "execute_result"
    }
   ],
   "source": [
    "data= yf.download(stocks, start=start, end=end)[\"Adj Close\"]\n",
    "data.head()"
   ]
  },
  {
   "cell_type": "code",
   "execution_count": 136,
   "id": "f5803dd8",
   "metadata": {},
   "outputs": [
    {
     "data": {
      "text/html": [
       "<div>\n",
       "<style scoped>\n",
       "    .dataframe tbody tr th:only-of-type {\n",
       "        vertical-align: middle;\n",
       "    }\n",
       "\n",
       "    .dataframe tbody tr th {\n",
       "        vertical-align: top;\n",
       "    }\n",
       "\n",
       "    .dataframe thead th {\n",
       "        text-align: right;\n",
       "    }\n",
       "</style>\n",
       "<table border=\"1\" class=\"dataframe\">\n",
       "  <thead>\n",
       "    <tr style=\"text-align: right;\">\n",
       "      <th></th>\n",
       "      <th>JNJ</th>\n",
       "      <th>LMT</th>\n",
       "      <th>MMM</th>\n",
       "      <th>NSRGY</th>\n",
       "      <th>SIEGY</th>\n",
       "      <th>WMT</th>\n",
       "    </tr>\n",
       "    <tr>\n",
       "      <th>Date</th>\n",
       "      <th></th>\n",
       "      <th></th>\n",
       "      <th></th>\n",
       "      <th></th>\n",
       "      <th></th>\n",
       "      <th></th>\n",
       "    </tr>\n",
       "  </thead>\n",
       "  <tbody>\n",
       "    <tr>\n",
       "      <th>2018-11-26</th>\n",
       "      <td>NaN</td>\n",
       "      <td>NaN</td>\n",
       "      <td>NaN</td>\n",
       "      <td>NaN</td>\n",
       "      <td>NaN</td>\n",
       "      <td>NaN</td>\n",
       "    </tr>\n",
       "    <tr>\n",
       "      <th>2018-11-27</th>\n",
       "      <td>0.013086</td>\n",
       "      <td>0.000034</td>\n",
       "      <td>0.004153</td>\n",
       "      <td>0.001654</td>\n",
       "      <td>-0.004121</td>\n",
       "      <td>-0.001156</td>\n",
       "    </tr>\n",
       "    <tr>\n",
       "      <th>2018-11-28</th>\n",
       "      <td>0.022483</td>\n",
       "      <td>0.015747</td>\n",
       "      <td>0.018187</td>\n",
       "      <td>0.002948</td>\n",
       "      <td>0.010690</td>\n",
       "      <td>0.025463</td>\n",
       "    </tr>\n",
       "    <tr>\n",
       "      <th>2018-11-29</th>\n",
       "      <td>-0.004029</td>\n",
       "      <td>0.008268</td>\n",
       "      <td>0.001077</td>\n",
       "      <td>0.003998</td>\n",
       "      <td>-0.004606</td>\n",
       "      <td>-0.001744</td>\n",
       "    </tr>\n",
       "    <tr>\n",
       "      <th>2018-11-30</th>\n",
       "      <td>0.007199</td>\n",
       "      <td>0.000699</td>\n",
       "      <td>0.016425</td>\n",
       "      <td>-0.001991</td>\n",
       "      <td>-0.005313</td>\n",
       "      <td>0.003700</td>\n",
       "    </tr>\n",
       "  </tbody>\n",
       "</table>\n",
       "</div>"
      ],
      "text/plain": [
       "                 JNJ       LMT       MMM     NSRGY     SIEGY       WMT\n",
       "Date                                                                  \n",
       "2018-11-26       NaN       NaN       NaN       NaN       NaN       NaN\n",
       "2018-11-27  0.013086  0.000034  0.004153  0.001654 -0.004121 -0.001156\n",
       "2018-11-28  0.022483  0.015747  0.018187  0.002948  0.010690  0.025463\n",
       "2018-11-29 -0.004029  0.008268  0.001077  0.003998 -0.004606 -0.001744\n",
       "2018-11-30  0.007199  0.000699  0.016425 -0.001991 -0.005313  0.003700"
      ]
     },
     "execution_count": 136,
     "metadata": {},
     "output_type": "execute_result"
    }
   ],
   "source": [
    "# Calcular razones de cambio: retornos % \"Data pq así se llama mi  base\"\n",
    "returns= data.pct_change()\n",
    "returns.head()"
   ]
  },
  {
   "cell_type": "code",
   "execution_count": 137,
   "id": "a54b9ba4",
   "metadata": {},
   "outputs": [
    {
     "data": {
      "text/plain": [
       "JNJ      0.000243\n",
       "LMT      0.000582\n",
       "MMM     -0.000274\n",
       "NSRGY    0.000378\n",
       "SIEGY    0.000603\n",
       "WMT      0.000553\n",
       "dtype: float64"
      ]
     },
     "execution_count": 137,
     "metadata": {},
     "output_type": "execute_result"
    }
   ],
   "source": [
    "# Cambios medios por acción:\n",
    "retorno_medio= returns.mean()\n",
    "retorno_medio"
   ]
  },
  {
   "cell_type": "code",
   "execution_count": 138,
   "id": "3c16f00f",
   "metadata": {},
   "outputs": [
    {
     "data": {
      "text/plain": [
       "array([0.3, 0.2, 0.2, 0.1, 0.1, 0.1])"
      ]
     },
     "execution_count": 138,
     "metadata": {},
     "output_type": "execute_result"
    }
   ],
   "source": [
    "# definir pesos del portafolio: \n",
    "#Los pesos en el parentesis los pone en órden.\n",
    "pesos= np.array([0.3, 0.2,0.2,0.1,0.1,0.1])\n",
    "pesos"
   ]
  },
  {
   "cell_type": "code",
   "execution_count": 139,
   "id": "41cce199",
   "metadata": {},
   "outputs": [
    {
     "data": {
      "text/plain": [
       "0.0002880088465957751"
      ]
     },
     "execution_count": 139,
     "metadata": {},
     "output_type": "execute_result"
    }
   ],
   "source": [
    "#Calcular el retorno promedio ponderado:\n",
    "retorno_port=np.sum(retorno_medio*pesos)\n",
    "retorno_port"
   ]
  },
  {
   "cell_type": "code",
   "execution_count": 140,
   "id": "d3fd60b7",
   "metadata": {},
   "outputs": [
    {
     "data": {
      "text/html": [
       "<div>\n",
       "<style scoped>\n",
       "    .dataframe tbody tr th:only-of-type {\n",
       "        vertical-align: middle;\n",
       "    }\n",
       "\n",
       "    .dataframe tbody tr th {\n",
       "        vertical-align: top;\n",
       "    }\n",
       "\n",
       "    .dataframe thead th {\n",
       "        text-align: right;\n",
       "    }\n",
       "</style>\n",
       "<table border=\"1\" class=\"dataframe\">\n",
       "  <thead>\n",
       "    <tr style=\"text-align: right;\">\n",
       "      <th></th>\n",
       "      <th>JNJ</th>\n",
       "      <th>LMT</th>\n",
       "      <th>MMM</th>\n",
       "      <th>NSRGY</th>\n",
       "      <th>SIEGY</th>\n",
       "      <th>WMT</th>\n",
       "      <th>Portafolio</th>\n",
       "    </tr>\n",
       "    <tr>\n",
       "      <th>Date</th>\n",
       "      <th></th>\n",
       "      <th></th>\n",
       "      <th></th>\n",
       "      <th></th>\n",
       "      <th></th>\n",
       "      <th></th>\n",
       "      <th></th>\n",
       "    </tr>\n",
       "  </thead>\n",
       "  <tbody>\n",
       "    <tr>\n",
       "      <th>2018-11-26</th>\n",
       "      <td>NaN</td>\n",
       "      <td>NaN</td>\n",
       "      <td>NaN</td>\n",
       "      <td>NaN</td>\n",
       "      <td>NaN</td>\n",
       "      <td>NaN</td>\n",
       "      <td>NaN</td>\n",
       "    </tr>\n",
       "    <tr>\n",
       "      <th>2018-11-27</th>\n",
       "      <td>1.013086</td>\n",
       "      <td>1.000034</td>\n",
       "      <td>1.004153</td>\n",
       "      <td>1.001654</td>\n",
       "      <td>0.995879</td>\n",
       "      <td>0.998844</td>\n",
       "      <td>1.004401</td>\n",
       "    </tr>\n",
       "    <tr>\n",
       "      <th>2018-11-28</th>\n",
       "      <td>1.035863</td>\n",
       "      <td>1.015782</td>\n",
       "      <td>1.022416</td>\n",
       "      <td>1.004607</td>\n",
       "      <td>1.006525</td>\n",
       "      <td>1.024277</td>\n",
       "      <td>1.021919</td>\n",
       "    </tr>\n",
       "    <tr>\n",
       "      <th>2018-11-29</th>\n",
       "      <td>1.031690</td>\n",
       "      <td>1.024180</td>\n",
       "      <td>1.023517</td>\n",
       "      <td>1.008623</td>\n",
       "      <td>1.001889</td>\n",
       "      <td>1.022491</td>\n",
       "      <td>1.022354</td>\n",
       "    </tr>\n",
       "    <tr>\n",
       "      <th>2018-11-30</th>\n",
       "      <td>1.039117</td>\n",
       "      <td>1.024897</td>\n",
       "      <td>1.040328</td>\n",
       "      <td>1.006615</td>\n",
       "      <td>0.996566</td>\n",
       "      <td>1.026274</td>\n",
       "      <td>1.027695</td>\n",
       "    </tr>\n",
       "    <tr>\n",
       "      <th>...</th>\n",
       "      <td>...</td>\n",
       "      <td>...</td>\n",
       "      <td>...</td>\n",
       "      <td>...</td>\n",
       "      <td>...</td>\n",
       "      <td>...</td>\n",
       "      <td>...</td>\n",
       "    </tr>\n",
       "    <tr>\n",
       "      <th>2023-11-16</th>\n",
       "      <td>1.205971</td>\n",
       "      <td>1.724607</td>\n",
       "      <td>0.585597</td>\n",
       "      <td>1.447265</td>\n",
       "      <td>1.601309</td>\n",
       "      <td>1.785164</td>\n",
       "      <td>1.321418</td>\n",
       "    </tr>\n",
       "    <tr>\n",
       "      <th>2023-11-17</th>\n",
       "      <td>1.203480</td>\n",
       "      <td>1.721085</td>\n",
       "      <td>0.583333</td>\n",
       "      <td>1.453531</td>\n",
       "      <td>1.625614</td>\n",
       "      <td>1.777271</td>\n",
       "      <td>1.321031</td>\n",
       "    </tr>\n",
       "    <tr>\n",
       "      <th>2023-11-20</th>\n",
       "      <td>1.214089</td>\n",
       "      <td>1.717718</td>\n",
       "      <td>0.581130</td>\n",
       "      <td>1.444263</td>\n",
       "      <td>1.621998</td>\n",
       "      <td>1.776699</td>\n",
       "      <td>1.321832</td>\n",
       "    </tr>\n",
       "    <tr>\n",
       "      <th>2023-11-21</th>\n",
       "      <td>1.223889</td>\n",
       "      <td>1.734515</td>\n",
       "      <td>0.575073</td>\n",
       "      <td>1.470501</td>\n",
       "      <td>1.621396</td>\n",
       "      <td>1.783105</td>\n",
       "      <td>1.327691</td>\n",
       "    </tr>\n",
       "    <tr>\n",
       "      <th>2023-11-22</th>\n",
       "      <td>1.221459</td>\n",
       "      <td>1.743223</td>\n",
       "      <td>0.583517</td>\n",
       "      <td>1.478203</td>\n",
       "      <td>1.632042</td>\n",
       "      <td>1.769491</td>\n",
       "      <td>1.332686</td>\n",
       "    </tr>\n",
       "  </tbody>\n",
       "</table>\n",
       "<p>1257 rows × 7 columns</p>\n",
       "</div>"
      ],
      "text/plain": [
       "                 JNJ       LMT       MMM     NSRGY     SIEGY       WMT  \\\n",
       "Date                                                                     \n",
       "2018-11-26       NaN       NaN       NaN       NaN       NaN       NaN   \n",
       "2018-11-27  1.013086  1.000034  1.004153  1.001654  0.995879  0.998844   \n",
       "2018-11-28  1.035863  1.015782  1.022416  1.004607  1.006525  1.024277   \n",
       "2018-11-29  1.031690  1.024180  1.023517  1.008623  1.001889  1.022491   \n",
       "2018-11-30  1.039117  1.024897  1.040328  1.006615  0.996566  1.026274   \n",
       "...              ...       ...       ...       ...       ...       ...   \n",
       "2023-11-16  1.205971  1.724607  0.585597  1.447265  1.601309  1.785164   \n",
       "2023-11-17  1.203480  1.721085  0.583333  1.453531  1.625614  1.777271   \n",
       "2023-11-20  1.214089  1.717718  0.581130  1.444263  1.621998  1.776699   \n",
       "2023-11-21  1.223889  1.734515  0.575073  1.470501  1.621396  1.783105   \n",
       "2023-11-22  1.221459  1.743223  0.583517  1.478203  1.632042  1.769491   \n",
       "\n",
       "            Portafolio  \n",
       "Date                    \n",
       "2018-11-26         NaN  \n",
       "2018-11-27    1.004401  \n",
       "2018-11-28    1.021919  \n",
       "2018-11-29    1.022354  \n",
       "2018-11-30    1.027695  \n",
       "...                ...  \n",
       "2023-11-16    1.321418  \n",
       "2023-11-17    1.321031  \n",
       "2023-11-20    1.321832  \n",
       "2023-11-21    1.327691  \n",
       "2023-11-22    1.332686  \n",
       "\n",
       "[1257 rows x 7 columns]"
      ]
     },
     "execution_count": 140,
     "metadata": {},
     "output_type": "execute_result"
    }
   ],
   "source": [
    "#retorno acumulado por accion o cada una de las fechas:\n",
    "\n",
    "#Crear la columna del retorno del portafolio:\n",
    "\n",
    "returns[\"Portafolio\"]=returns.dot(pesos)\n",
    "\n",
    "#Calcular los retornos acumulados: Le sumaré 1 porque ahi inverí mi 100%\n",
    "\n",
    "returns\n",
    "\n",
    "ret_acumulado= (1+returns).cumprod()\n",
    "ret_acumulado"
   ]
  },
  {
   "cell_type": "code",
   "execution_count": 141,
   "id": "9543ca39",
   "metadata": {},
   "outputs": [
    {
     "data": {
      "text/html": [
       "<div>\n",
       "<style scoped>\n",
       "    .dataframe tbody tr th:only-of-type {\n",
       "        vertical-align: middle;\n",
       "    }\n",
       "\n",
       "    .dataframe tbody tr th {\n",
       "        vertical-align: top;\n",
       "    }\n",
       "\n",
       "    .dataframe thead th {\n",
       "        text-align: right;\n",
       "    }\n",
       "</style>\n",
       "<table border=\"1\" class=\"dataframe\">\n",
       "  <thead>\n",
       "    <tr style=\"text-align: right;\">\n",
       "      <th></th>\n",
       "      <th>JNJ</th>\n",
       "      <th>LMT</th>\n",
       "      <th>MMM</th>\n",
       "      <th>NSRGY</th>\n",
       "      <th>SIEGY</th>\n",
       "      <th>WMT</th>\n",
       "      <th>Portafolio</th>\n",
       "    </tr>\n",
       "    <tr>\n",
       "      <th>Date</th>\n",
       "      <th></th>\n",
       "      <th></th>\n",
       "      <th></th>\n",
       "      <th></th>\n",
       "      <th></th>\n",
       "      <th></th>\n",
       "      <th></th>\n",
       "    </tr>\n",
       "  </thead>\n",
       "  <tbody>\n",
       "    <tr>\n",
       "      <th>2023-11-16</th>\n",
       "      <td>1.205971</td>\n",
       "      <td>1.724607</td>\n",
       "      <td>0.585597</td>\n",
       "      <td>1.447265</td>\n",
       "      <td>1.601309</td>\n",
       "      <td>1.785164</td>\n",
       "      <td>1.321418</td>\n",
       "    </tr>\n",
       "    <tr>\n",
       "      <th>2023-11-17</th>\n",
       "      <td>1.203480</td>\n",
       "      <td>1.721085</td>\n",
       "      <td>0.583333</td>\n",
       "      <td>1.453531</td>\n",
       "      <td>1.625614</td>\n",
       "      <td>1.777271</td>\n",
       "      <td>1.321031</td>\n",
       "    </tr>\n",
       "    <tr>\n",
       "      <th>2023-11-20</th>\n",
       "      <td>1.214089</td>\n",
       "      <td>1.717718</td>\n",
       "      <td>0.581130</td>\n",
       "      <td>1.444263</td>\n",
       "      <td>1.621998</td>\n",
       "      <td>1.776699</td>\n",
       "      <td>1.321832</td>\n",
       "    </tr>\n",
       "    <tr>\n",
       "      <th>2023-11-21</th>\n",
       "      <td>1.223889</td>\n",
       "      <td>1.734515</td>\n",
       "      <td>0.575073</td>\n",
       "      <td>1.470501</td>\n",
       "      <td>1.621396</td>\n",
       "      <td>1.783105</td>\n",
       "      <td>1.327691</td>\n",
       "    </tr>\n",
       "    <tr>\n",
       "      <th>2023-11-22</th>\n",
       "      <td>1.221459</td>\n",
       "      <td>1.743223</td>\n",
       "      <td>0.583517</td>\n",
       "      <td>1.478203</td>\n",
       "      <td>1.632042</td>\n",
       "      <td>1.769491</td>\n",
       "      <td>1.332686</td>\n",
       "    </tr>\n",
       "  </tbody>\n",
       "</table>\n",
       "</div>"
      ],
      "text/plain": [
       "                 JNJ       LMT       MMM     NSRGY     SIEGY       WMT  \\\n",
       "Date                                                                     \n",
       "2023-11-16  1.205971  1.724607  0.585597  1.447265  1.601309  1.785164   \n",
       "2023-11-17  1.203480  1.721085  0.583333  1.453531  1.625614  1.777271   \n",
       "2023-11-20  1.214089  1.717718  0.581130  1.444263  1.621998  1.776699   \n",
       "2023-11-21  1.223889  1.734515  0.575073  1.470501  1.621396  1.783105   \n",
       "2023-11-22  1.221459  1.743223  0.583517  1.478203  1.632042  1.769491   \n",
       "\n",
       "            Portafolio  \n",
       "Date                    \n",
       "2023-11-16    1.321418  \n",
       "2023-11-17    1.321031  \n",
       "2023-11-20    1.321832  \n",
       "2023-11-21    1.327691  \n",
       "2023-11-22    1.332686  "
      ]
     },
     "execution_count": 141,
     "metadata": {},
     "output_type": "execute_result"
    }
   ],
   "source": [
    "# Ver el crecimiento final acumulado:\n",
    "ret_acumulado.tail()"
   ]
  },
  {
   "cell_type": "code",
   "execution_count": 142,
   "id": "b3a93f89",
   "metadata": {},
   "outputs": [
    {
     "data": {
      "text/html": [
       "\n",
       "        <iframe\n",
       "            width=\"100%\"\n",
       "            height=\"650\"\n",
       "            src=\"http://127.0.0.1:8050/\"\n",
       "            frameborder=\"0\"\n",
       "            allowfullscreen\n",
       "            \n",
       "        ></iframe>\n",
       "        "
      ],
      "text/plain": [
       "<IPython.lib.display.IFrame at 0x16a13ce6b90>"
      ]
     },
     "metadata": {},
     "output_type": "display_data"
    }
   ],
   "source": [
    "# Inicializar la aplicación Dash\n",
    "app = dash.Dash(__name__)\n",
    "\n",
    "# Diseño del dashboard\n",
    "app.layout = html.Div([\n",
    "    html.H1(\"Dashboard de Retornos Acumulados\"),\n",
    "    \n",
    "    # Filtro de fecha\n",
    "    dcc.DatePickerRange(\n",
    "        id='date-picker-range',\n",
    "        start_date=ret_acumulado.index.min(),\n",
    "        end_date=ret_acumulado.index.max(),\n",
    "        display_format='YYYY-MM-DD',\n",
    "    ),\n",
    "    \n",
    "    # Gráfica de líneas\n",
    "    dcc.Graph(id='line-plot'),\n",
    "])\n",
    "\n",
    "# Callback para actualizar la gráfica con el filtro de fecha\n",
    "@app.callback(\n",
    "    Output('line-plot', 'figure'),\n",
    "    [Input('date-picker-range', 'start_date'),\n",
    "     Input('date-picker-range', 'end_date')]\n",
    ")\n",
    "def update_graph(start_date, end_date):\n",
    "    filtered_data = ret_acumulado.loc[start_date:end_date]\n",
    "    fig = px.line(filtered_data, x=filtered_data.index, y=[\"JNJ\", \"LMT\", \"MMM\", \"SIEGY\", \"WMT\", \"NSRGY\", \"Portafolio\"],\n",
    "                  line_shape=\"linear\")\n",
    "    return fig\n",
    "\n",
    "# Ejecutar la aplicación\n",
    "if __name__ == '__main__':\n",
    "    app.run_server(debug=True)"
   ]
  },
  {
   "cell_type": "markdown",
   "id": "77cb91c5",
   "metadata": {},
   "source": [
    "# Parte 3:"
   ]
  },
  {
   "cell_type": "code",
   "execution_count": 17,
   "id": "feff8ed8",
   "metadata": {},
   "outputs": [
    {
     "name": "stdout",
     "output_type": "stream",
     "text": [
      "2023-11-22 21:50:09.781313\n",
      "2020-11-22 21:50:09.781313\n"
     ]
    }
   ],
   "source": [
    "# Definir las acciones para 3 años\n",
    "\n",
    "stocks=[\"NSRGY\", \"WMT\", \"JNJ\",\"SIEGY\", \"MMM\",\"LMT\"]\n",
    "stocks\n",
    "\n",
    "#Definir las fechas de las observaciones:\n",
    "\n",
    "end= datetime.datetime.now()\n",
    "start= end - datetime.timedelta(days=365*3)\n",
    "print(end)\n",
    "print(start)"
   ]
  },
  {
   "cell_type": "code",
   "execution_count": 18,
   "id": "b73625a7",
   "metadata": {},
   "outputs": [
    {
     "name": "stdout",
     "output_type": "stream",
     "text": [
      "[*********************100%%**********************]  6 of 6 completed\n"
     ]
    },
    {
     "data": {
      "text/html": [
       "<div>\n",
       "<style scoped>\n",
       "    .dataframe tbody tr th:only-of-type {\n",
       "        vertical-align: middle;\n",
       "    }\n",
       "\n",
       "    .dataframe tbody tr th {\n",
       "        vertical-align: top;\n",
       "    }\n",
       "\n",
       "    .dataframe thead th {\n",
       "        text-align: right;\n",
       "    }\n",
       "</style>\n",
       "<table border=\"1\" class=\"dataframe\">\n",
       "  <thead>\n",
       "    <tr style=\"text-align: right;\">\n",
       "      <th></th>\n",
       "      <th>JNJ</th>\n",
       "      <th>LMT</th>\n",
       "      <th>MMM</th>\n",
       "      <th>NSRGY</th>\n",
       "      <th>SIEGY</th>\n",
       "      <th>WMT</th>\n",
       "    </tr>\n",
       "    <tr>\n",
       "      <th>Date</th>\n",
       "      <th></th>\n",
       "      <th></th>\n",
       "      <th></th>\n",
       "      <th></th>\n",
       "      <th></th>\n",
       "      <th></th>\n",
       "    </tr>\n",
       "  </thead>\n",
       "  <tbody>\n",
       "    <tr>\n",
       "      <th>2020-11-23</th>\n",
       "      <td>132.713455</td>\n",
       "      <td>341.531525</td>\n",
       "      <td>152.686462</td>\n",
       "      <td>103.089325</td>\n",
       "      <td>61.154251</td>\n",
       "      <td>144.079117</td>\n",
       "    </tr>\n",
       "    <tr>\n",
       "      <th>2020-11-24</th>\n",
       "      <td>132.713455</td>\n",
       "      <td>348.558319</td>\n",
       "      <td>155.264267</td>\n",
       "      <td>103.469940</td>\n",
       "      <td>61.559067</td>\n",
       "      <td>144.489609</td>\n",
       "    </tr>\n",
       "    <tr>\n",
       "      <th>2020-11-25</th>\n",
       "      <td>132.538208</td>\n",
       "      <td>348.429291</td>\n",
       "      <td>155.299316</td>\n",
       "      <td>103.971222</td>\n",
       "      <td>61.945477</td>\n",
       "      <td>144.938293</td>\n",
       "    </tr>\n",
       "    <tr>\n",
       "      <th>2020-11-27</th>\n",
       "      <td>132.833405</td>\n",
       "      <td>344.745483</td>\n",
       "      <td>155.097672</td>\n",
       "      <td>104.630333</td>\n",
       "      <td>61.973076</td>\n",
       "      <td>144.718689</td>\n",
       "    </tr>\n",
       "    <tr>\n",
       "      <th>2020-11-30</th>\n",
       "      <td>133.460663</td>\n",
       "      <td>338.494965</td>\n",
       "      <td>151.450165</td>\n",
       "      <td>103.117180</td>\n",
       "      <td>61.430256</td>\n",
       "      <td>145.854691</td>\n",
       "    </tr>\n",
       "  </tbody>\n",
       "</table>\n",
       "</div>"
      ],
      "text/plain": [
       "                   JNJ         LMT         MMM       NSRGY      SIEGY  \\\n",
       "Date                                                                    \n",
       "2020-11-23  132.713455  341.531525  152.686462  103.089325  61.154251   \n",
       "2020-11-24  132.713455  348.558319  155.264267  103.469940  61.559067   \n",
       "2020-11-25  132.538208  348.429291  155.299316  103.971222  61.945477   \n",
       "2020-11-27  132.833405  344.745483  155.097672  104.630333  61.973076   \n",
       "2020-11-30  133.460663  338.494965  151.450165  103.117180  61.430256   \n",
       "\n",
       "                   WMT  \n",
       "Date                    \n",
       "2020-11-23  144.079117  \n",
       "2020-11-24  144.489609  \n",
       "2020-11-25  144.938293  \n",
       "2020-11-27  144.718689  \n",
       "2020-11-30  145.854691  "
      ]
     },
     "execution_count": 18,
     "metadata": {},
     "output_type": "execute_result"
    }
   ],
   "source": [
    "data= yf.download(stocks, start=start, end=end)[\"Adj Close\"]\n",
    "data.head()"
   ]
  },
  {
   "cell_type": "code",
   "execution_count": 19,
   "id": "4407bdb8",
   "metadata": {},
   "outputs": [
    {
     "data": {
      "text/html": [
       "<div>\n",
       "<style scoped>\n",
       "    .dataframe tbody tr th:only-of-type {\n",
       "        vertical-align: middle;\n",
       "    }\n",
       "\n",
       "    .dataframe tbody tr th {\n",
       "        vertical-align: top;\n",
       "    }\n",
       "\n",
       "    .dataframe thead th {\n",
       "        text-align: right;\n",
       "    }\n",
       "</style>\n",
       "<table border=\"1\" class=\"dataframe\">\n",
       "  <thead>\n",
       "    <tr style=\"text-align: right;\">\n",
       "      <th></th>\n",
       "      <th>JNJ</th>\n",
       "      <th>LMT</th>\n",
       "      <th>MMM</th>\n",
       "      <th>NSRGY</th>\n",
       "      <th>SIEGY</th>\n",
       "      <th>WMT</th>\n",
       "    </tr>\n",
       "    <tr>\n",
       "      <th>Date</th>\n",
       "      <th></th>\n",
       "      <th></th>\n",
       "      <th></th>\n",
       "      <th></th>\n",
       "      <th></th>\n",
       "      <th></th>\n",
       "    </tr>\n",
       "  </thead>\n",
       "  <tbody>\n",
       "    <tr>\n",
       "      <th>2020-11-23</th>\n",
       "      <td>NaN</td>\n",
       "      <td>NaN</td>\n",
       "      <td>NaN</td>\n",
       "      <td>NaN</td>\n",
       "      <td>NaN</td>\n",
       "      <td>NaN</td>\n",
       "    </tr>\n",
       "    <tr>\n",
       "      <th>2020-11-24</th>\n",
       "      <td>0.000000</td>\n",
       "      <td>0.020574</td>\n",
       "      <td>0.016883</td>\n",
       "      <td>0.003692</td>\n",
       "      <td>0.006620</td>\n",
       "      <td>0.002849</td>\n",
       "    </tr>\n",
       "    <tr>\n",
       "      <th>2020-11-25</th>\n",
       "      <td>-0.001320</td>\n",
       "      <td>-0.000370</td>\n",
       "      <td>0.000226</td>\n",
       "      <td>0.004845</td>\n",
       "      <td>0.006277</td>\n",
       "      <td>0.003105</td>\n",
       "    </tr>\n",
       "    <tr>\n",
       "      <th>2020-11-27</th>\n",
       "      <td>0.002227</td>\n",
       "      <td>-0.010573</td>\n",
       "      <td>-0.001298</td>\n",
       "      <td>0.006339</td>\n",
       "      <td>0.000446</td>\n",
       "      <td>-0.001515</td>\n",
       "    </tr>\n",
       "    <tr>\n",
       "      <th>2020-11-30</th>\n",
       "      <td>0.004722</td>\n",
       "      <td>-0.018131</td>\n",
       "      <td>-0.023517</td>\n",
       "      <td>-0.014462</td>\n",
       "      <td>-0.008759</td>\n",
       "      <td>0.007850</td>\n",
       "    </tr>\n",
       "  </tbody>\n",
       "</table>\n",
       "</div>"
      ],
      "text/plain": [
       "                 JNJ       LMT       MMM     NSRGY     SIEGY       WMT\n",
       "Date                                                                  \n",
       "2020-11-23       NaN       NaN       NaN       NaN       NaN       NaN\n",
       "2020-11-24  0.000000  0.020574  0.016883  0.003692  0.006620  0.002849\n",
       "2020-11-25 -0.001320 -0.000370  0.000226  0.004845  0.006277  0.003105\n",
       "2020-11-27  0.002227 -0.010573 -0.001298  0.006339  0.000446 -0.001515\n",
       "2020-11-30  0.004722 -0.018131 -0.023517 -0.014462 -0.008759  0.007850"
      ]
     },
     "execution_count": 19,
     "metadata": {},
     "output_type": "execute_result"
    }
   ],
   "source": [
    "returns=data.pct_change()\n",
    "returns.head()"
   ]
  },
  {
   "cell_type": "code",
   "execution_count": 20,
   "id": "f35b327a",
   "metadata": {},
   "outputs": [],
   "source": [
    "#FUNCIÓN DE ANALISIS \n",
    "\n",
    "def print_statistics(data):\n",
    "    mean=data.mean()*100\n",
    "    std=data.std()*100\n",
    "    skewness=data.skew()\n",
    "    kurtosis=data.kurtosis()\n",
    "    \n",
    "    print(\"Mean: \",mean)\n",
    "    print(\"Std: \",std)\n",
    "    print(\"skewness: \",skewness)\n",
    "    print(\"kurtosis: \",kurtosis)"
   ]
  },
  {
   "cell_type": "code",
   "execution_count": 21,
   "id": "a08bb787",
   "metadata": {},
   "outputs": [
    {
     "data": {
      "text/plain": [
       "JNJ      0.000222\n",
       "LMT      0.000462\n",
       "MMM     -0.000505\n",
       "NSRGY    0.000185\n",
       "SIEGY    0.000572\n",
       "WMT      0.000176\n",
       "dtype: float64"
      ]
     },
     "execution_count": 21,
     "metadata": {},
     "output_type": "execute_result"
    }
   ],
   "source": [
    "retorno_medio= returns.mean()\n",
    "retorno_medio"
   ]
  },
  {
   "cell_type": "markdown",
   "id": "befcff7a",
   "metadata": {},
   "source": [
    "### Acciones de Jhonson & Jhonson"
   ]
  },
  {
   "cell_type": "code",
   "execution_count": 22,
   "id": "e85bc38c",
   "metadata": {},
   "outputs": [
    {
     "name": "stdout",
     "output_type": "stream",
     "text": [
      "El retorno medio de esta accion es de: 0.00022190019352781096\n",
      "\n",
      "Annual return         0.043612\n",
      "Cumulative returns    0.136433\n",
      "Annual volatility     0.162543\n",
      "Sharpe ratio          0.344025\n",
      "Calmar ratio          0.236873\n",
      "Stability             0.128693\n",
      "Max drawdown         -0.184117\n",
      "Omega ratio           1.060501\n",
      "dtype: float64\n",
      "Sesgo y Kurtosis de JNJ\n",
      "\n",
      "Mean:  0.022190019352781098\n",
      "Std:  1.0239241127688234\n",
      "skewness:  0.2556772975752334\n",
      "kurtosis:  3.1904173560167\n",
      "None\n"
     ]
    },
    {
     "name": "stderr",
     "output_type": "stream",
     "text": [
      "C:\\Users\\Marco\\anaconda3\\Lib\\site-packages\\pyfolio\\timeseries.py:724: FutureWarning:\n",
      "\n",
      "The default dtype for empty Series will be 'object' instead of 'float64' in a future version. Specify a dtype explicitly to silence this warning.\n",
      "\n"
     ]
    }
   ],
   "source": [
    "### Retorno medio\n",
    "\n",
    "retorno_medio_JNJ = retorno_medio.iloc[0]\n",
    "print(\"El retorno medio de esta accion es de:\", retorno_medio_JNJ)\n",
    "print(\"\")\n",
    "### PRUEBA DEL AUTOMATIZADO\n",
    "stats_JNJ = pf.timeseries.perf_stats(returns[\"JNJ\"])\n",
    "\n",
    "# Retorno anual, valatilidad y sharpe\n",
    "\n",
    "RVS_JNJ = stats_JNJ.iloc[0:8]\n",
    "print(RVS_JNJ)\n",
    "\n",
    "# Sesgo y Kurtosis\n",
    "\n",
    "print(\"Sesgo y Kurtosis de JNJ\")\n",
    "print(\"\")\n",
    "print(print_statistics(returns[\"JNJ\"]))"
   ]
  },
  {
   "cell_type": "markdown",
   "id": "69045763",
   "metadata": {},
   "source": [
    "### Acciones de Lockhead Martin"
   ]
  },
  {
   "cell_type": "code",
   "execution_count": 23,
   "id": "17efeb10",
   "metadata": {},
   "outputs": [
    {
     "name": "stdout",
     "output_type": "stream",
     "text": [
      "El retorno medio de esta accion es de: 0.000461844568258179\n",
      "\n",
      "Annual return         0.096753\n",
      "Cumulative returns    0.318766\n",
      "Annual volatility     0.218326\n",
      "Sharpe ratio          0.533079\n",
      "Calmar ratio          0.491467\n",
      "Stability             0.732434\n",
      "Max drawdown         -0.196866\n",
      "Omega ratio           1.104342\n",
      "dtype: float64\n",
      "Sesgo y Kurtosis de LMT\n",
      "\n",
      "Mean:  0.0461844568258179\n",
      "Std:  1.3753236515615854\n",
      "skewness:  -0.30175061919749807\n",
      "kurtosis:  12.722696586903316\n",
      "None\n"
     ]
    },
    {
     "name": "stderr",
     "output_type": "stream",
     "text": [
      "C:\\Users\\Marco\\anaconda3\\Lib\\site-packages\\pyfolio\\timeseries.py:724: FutureWarning:\n",
      "\n",
      "The default dtype for empty Series will be 'object' instead of 'float64' in a future version. Specify a dtype explicitly to silence this warning.\n",
      "\n"
     ]
    }
   ],
   "source": [
    "### Retorno medio\n",
    "\n",
    "retorno_medio_LMT = retorno_medio.iloc[1]\n",
    "print(\"El retorno medio de esta accion es de:\", retorno_medio_LMT)\n",
    "print(\"\")\n",
    "# PRUEBA DEL AUTOMATIZADO\n",
    "stats_LMT = pf.timeseries.perf_stats(returns[\"LMT\"])\n",
    "\n",
    "# Retorno anual, volatilidad y Sharpe\n",
    "RVS_LMT = stats_LMT.iloc[0:8]\n",
    "print(RVS_LMT)\n",
    "\n",
    "# Sesgo y Kurtosis\n",
    "print(\"Sesgo y Kurtosis de LMT\")\n",
    "print(\"\")\n",
    "print(print_statistics(returns[\"LMT\"]))"
   ]
  },
  {
   "cell_type": "markdown",
   "id": "22536c5d",
   "metadata": {},
   "source": [
    "### Acciones de 3M"
   ]
  },
  {
   "cell_type": "code",
   "execution_count": 24,
   "id": "d6ffae66",
   "metadata": {},
   "outputs": [
    {
     "name": "stdout",
     "output_type": "stream",
     "text": [
      "El retorno medio de esta accion es de: -0.0005049738987138481\n",
      "\n",
      "Annual return        -0.145366\n",
      "Cumulative returns   -0.375387\n",
      "Annual volatility     0.244933\n",
      "Sharpe ratio         -0.519545\n",
      "Calmar ratio         -0.268834\n",
      "Stability             0.861537\n",
      "Max drawdown         -0.540728\n",
      "Omega ratio           0.911903\n",
      "dtype: float64\n",
      "Sesgo y Kurtosis de MMM\n",
      "\n",
      "Mean:  -0.05049738987138481\n",
      "Std:  1.54293024068556\n",
      "skewness:  0.027726335759597705\n",
      "kurtosis:  4.486077847673085\n",
      "None\n"
     ]
    },
    {
     "name": "stderr",
     "output_type": "stream",
     "text": [
      "C:\\Users\\Marco\\anaconda3\\Lib\\site-packages\\pyfolio\\timeseries.py:724: FutureWarning:\n",
      "\n",
      "The default dtype for empty Series will be 'object' instead of 'float64' in a future version. Specify a dtype explicitly to silence this warning.\n",
      "\n"
     ]
    }
   ],
   "source": [
    "### Retorno medio\n",
    "\n",
    "retorno_medio_MMM = retorno_medio.iloc[2]\n",
    "print(\"El retorno medio de esta accion es de:\", retorno_medio_MMM)\n",
    "print(\"\")\n",
    "# PRUEBA DEL AUTOMATIZADO\n",
    "stats_MMM = pf.timeseries.perf_stats(returns[\"MMM\"])\n",
    "\n",
    "# Retorno anual, volatilidad y Sharpe\n",
    "RVS_MMM = stats_MMM.iloc[0:8]\n",
    "print(RVS_MMM)\n",
    "\n",
    "# Sesgo y Kurtosis\n",
    "print(\"Sesgo y Kurtosis de MMM\")\n",
    "print(\"\")\n",
    "print(print_statistics(returns[\"MMM\"]))"
   ]
  },
  {
   "cell_type": "markdown",
   "id": "563ff32d",
   "metadata": {},
   "source": [
    "### Acciones de Nestle"
   ]
  },
  {
   "cell_type": "code",
   "execution_count": 25,
   "id": "8a677a16",
   "metadata": {},
   "outputs": [
    {
     "name": "stdout",
     "output_type": "stream",
     "text": [
      "El retorno medio de esta accion es de: 0.000184755931076469\n",
      "\n",
      "Annual return         0.031842\n",
      "Cumulative returns    0.098465\n",
      "Annual volatility     0.174197\n",
      "Sharpe ratio          0.267275\n",
      "Calmar ratio          0.130856\n",
      "Stability             0.051117\n",
      "Max drawdown         -0.243340\n",
      "Omega ratio           1.045292\n",
      "dtype: float64\n",
      "Sesgo y Kurtosis de NSRGY\n",
      "\n",
      "Mean:  0.0184755931076469\n",
      "Std:  1.0973371004607324\n",
      "skewness:  -0.1479658826918738\n",
      "kurtosis:  1.0936579858851077\n",
      "None\n"
     ]
    },
    {
     "name": "stderr",
     "output_type": "stream",
     "text": [
      "C:\\Users\\Marco\\anaconda3\\Lib\\site-packages\\pyfolio\\timeseries.py:724: FutureWarning:\n",
      "\n",
      "The default dtype for empty Series will be 'object' instead of 'float64' in a future version. Specify a dtype explicitly to silence this warning.\n",
      "\n"
     ]
    }
   ],
   "source": [
    "### Retorno medio\n",
    "\n",
    "retorno_medio_NSRGY = retorno_medio.iloc[3]\n",
    "print(\"El retorno medio de esta accion es de:\", retorno_medio_NSRGY)\n",
    "print(\"\")\n",
    "# PRUEBA DEL AUTOMATIZADO\n",
    "stats_NSRGY = pf.timeseries.perf_stats(returns[\"NSRGY\"])\n",
    "\n",
    "# Retorno anual, volatilidad y Sharpe\n",
    "RVS_NSRGY = stats_NSRGY.iloc[0:8]\n",
    "print(RVS_NSRGY)\n",
    "\n",
    "# Sesgo y Kurtosis\n",
    "print(\"Sesgo y Kurtosis de NSRGY\")\n",
    "print(\"\")\n",
    "print(print_statistics(returns[\"NSRGY\"]))"
   ]
  },
  {
   "cell_type": "markdown",
   "id": "bc321113",
   "metadata": {},
   "source": [
    "### Acciones de Siemmens"
   ]
  },
  {
   "cell_type": "code",
   "execution_count": 26,
   "id": "ae43ed9a",
   "metadata": {},
   "outputs": [
    {
     "name": "stdout",
     "output_type": "stream",
     "text": [
      "El retorno medio de esta accion es de: 0.0005722002704784653\n",
      "\n",
      "Annual return         0.099478\n",
      "Cumulative returns    0.328608\n",
      "Annual volatility     0.314321\n",
      "Sharpe ratio          0.458749\n",
      "Calmar ratio          0.218122\n",
      "Stability             0.002728\n",
      "Max drawdown         -0.456067\n",
      "Omega ratio           1.079678\n",
      "dtype: float64\n",
      "Sesgo y Kurtosis de SIEGY\n",
      "\n",
      "Mean:  0.057220027047846525\n",
      "Std:  1.9800351595943424\n",
      "skewness:  0.20049031077029628\n",
      "kurtosis:  1.7143573713471816\n",
      "None\n"
     ]
    },
    {
     "name": "stderr",
     "output_type": "stream",
     "text": [
      "C:\\Users\\Marco\\anaconda3\\Lib\\site-packages\\pyfolio\\timeseries.py:724: FutureWarning:\n",
      "\n",
      "The default dtype for empty Series will be 'object' instead of 'float64' in a future version. Specify a dtype explicitly to silence this warning.\n",
      "\n"
     ]
    }
   ],
   "source": [
    "### Retorno medio\n",
    "\n",
    "retorno_medio_SIEGY = retorno_medio.iloc[4]\n",
    "print(\"El retorno medio de esta accion es de:\", retorno_medio_SIEGY)\n",
    "print(\"\")\n",
    "# PRUEBA DEL AUTOMATIZADO\n",
    "stats_SIEGY = pf.timeseries.perf_stats(returns[\"SIEGY\"])\n",
    "\n",
    "# Retorno anual, volatilidad y Sharpe\n",
    "RVS_SIEGY = stats_SIEGY.iloc[0:8]\n",
    "print(RVS_SIEGY)\n",
    "\n",
    "# Sesgo y Kurtosis\n",
    "print(\"Sesgo y Kurtosis de SIEGY\")\n",
    "print(\"\")\n",
    "print(print_statistics(returns[\"SIEGY\"]))"
   ]
  },
  {
   "cell_type": "markdown",
   "id": "b5f966d1",
   "metadata": {},
   "source": [
    "### Acciones de Walmart"
   ]
  },
  {
   "cell_type": "code",
   "execution_count": 27,
   "id": "145b5558",
   "metadata": {},
   "outputs": [
    {
     "name": "stdout",
     "output_type": "stream",
     "text": [
      "El retorno medio de esta accion es de: 0.00017611339328506645\n",
      "\n",
      "Annual return         0.023958\n",
      "Cumulative returns    0.073507\n",
      "Annual volatility     0.201925\n",
      "Sharpe ratio          0.219787\n",
      "Calmar ratio          0.093076\n",
      "Stability             0.317844\n",
      "Max drawdown         -0.257397\n",
      "Omega ratio           1.041936\n",
      "dtype: float64\n",
      "Sesgo y Kurtosis de WMT\n",
      "\n",
      "Mean:  0.017611339328506646\n",
      "Std:  1.2720077967240948\n",
      "skewness:  -1.667690544145023\n",
      "kurtosis:  14.511968750788593\n",
      "None\n"
     ]
    },
    {
     "name": "stderr",
     "output_type": "stream",
     "text": [
      "C:\\Users\\Marco\\anaconda3\\Lib\\site-packages\\pyfolio\\timeseries.py:724: FutureWarning:\n",
      "\n",
      "The default dtype for empty Series will be 'object' instead of 'float64' in a future version. Specify a dtype explicitly to silence this warning.\n",
      "\n"
     ]
    }
   ],
   "source": [
    "### Retorno medio\n",
    "\n",
    "retorno_medio_WMT = retorno_medio.iloc[5]\n",
    "print(\"El retorno medio de esta accion es de:\", retorno_medio_WMT)\n",
    "print(\"\")\n",
    "\n",
    "stats_WMT = pf.timeseries.perf_stats(returns[\"WMT\"])\n",
    "\n",
    "# Retorno anual, volatilidad y Sharpe\n",
    "RVS_WMT = stats_WMT.iloc[0:8]\n",
    "print(RVS_WMT)\n",
    "\n",
    "# Sesgo y Kurtosis\n",
    "print(\"Sesgo y Kurtosis de WMT\")\n",
    "print(\"\")\n",
    "print(print_statistics(returns[\"WMT\"]))"
   ]
  },
  {
   "cell_type": "markdown",
   "id": "50fbc5fb",
   "metadata": {},
   "source": [
    "#### Argumentación de las acciones que se trabajarán:\n",
    "\n",
    "##### Lockheed Martin (LMT):\n",
    "Razones para la selección: Lockheed Martin muestra un rendimiento sólido con un retorno medio más alto y una volatilidad anual moderada. El Sharpe ratio y Calmar ratio son significativamente superiores en comparación con otras acciones. Además, la skewness y kurtosis son relativamente bajas, indicando una distribución más normal de los rendimientos. Además de esto, se cree que el gobierno de EEUU que es su principal cliente se preparará para elevar el gasto de defensa, lo que significaría un aumento de ventas.\n",
    "\n",
    "##### Siemens AG (SIEGY):\n",
    "Razones para la selección: Siemens también tiene un rendimiento atractivo con un retorno medio sólido y una volatilidad anual moderada. El Sharpe ratio es significativamente positivo, lo que indica un buen rendimiento ajustado al riesgo. Aunque la skewness y kurtosis no son perfectas, son aceptables en comparación con algunas otras acciones. Además de esto hay que considerar su presencia en el desarrollo en teconologías para vehículos eléctricos y software de IA.\n",
    "\n",
    "##### Johnson & Johnson (JNJ):\n",
    "Razones para la selección: Aunque J&J tiene un retorno medio más bajo en comparación con LMT y SIEGY, muestra una volatilidad anual más baja y un Sharpe ratio positivo. Es una opción más conservadora, adecuada si nuestros clientes buscan estabilidad y poco riesgo. Esto permitirá de que las personas tengan una acción que sepan que es sólida. \n",
    "\n",
    "##### Nestle SA (NSRGY):\n",
    "Razones para la selección: Aunque NSRGY tiene un retorno medio más bajo, su volatilidad es relativamente baja, y el Sharpe ratio es positivo. Además, la skewness y kurtosis son aceptables. Esta acción puede ser considera como un contrapeso, ya que tiene una estabilidad bastante buena y el riesgo es poco. Por lo que puede llegar a ser una buena aportación al portafolio ya que este tipo de industrias siempre tienen una demanda estable y cíclica.\n"
   ]
  },
  {
   "cell_type": "markdown",
   "id": "9ce2d5cc",
   "metadata": {},
   "source": [
    "# Parte 4:"
   ]
  },
  {
   "cell_type": "code",
   "execution_count": 28,
   "id": "ff0b8a49",
   "metadata": {},
   "outputs": [
    {
     "name": "stdout",
     "output_type": "stream",
     "text": [
      "2023-11-22 21:50:38.572980\n",
      "2020-11-22 21:50:38.572980\n"
     ]
    }
   ],
   "source": [
    "#PORTAFOLIO CON LAS ACCIONES RECOMENDADAS\n",
    "stocks2=[\"LMT\",\"SIEGY\",\"JNJ\", \"NSRGY\"]\n",
    "stocks2\n",
    "\n",
    "end= datetime.datetime.now() #Que jale hasta hoy (los días* años)\n",
    "start= end - datetime.timedelta(days=365*3)\n",
    "print(end)\n",
    "print(start)"
   ]
  },
  {
   "cell_type": "code",
   "execution_count": 29,
   "id": "31f7dcab",
   "metadata": {},
   "outputs": [
    {
     "name": "stdout",
     "output_type": "stream",
     "text": [
      "[*********************100%%**********************]  4 of 4 completed\n"
     ]
    },
    {
     "data": {
      "text/html": [
       "<div>\n",
       "<style scoped>\n",
       "    .dataframe tbody tr th:only-of-type {\n",
       "        vertical-align: middle;\n",
       "    }\n",
       "\n",
       "    .dataframe tbody tr th {\n",
       "        vertical-align: top;\n",
       "    }\n",
       "\n",
       "    .dataframe thead th {\n",
       "        text-align: right;\n",
       "    }\n",
       "</style>\n",
       "<table border=\"1\" class=\"dataframe\">\n",
       "  <thead>\n",
       "    <tr style=\"text-align: right;\">\n",
       "      <th></th>\n",
       "      <th>JNJ</th>\n",
       "      <th>LMT</th>\n",
       "      <th>NSRGY</th>\n",
       "      <th>SIEGY</th>\n",
       "    </tr>\n",
       "    <tr>\n",
       "      <th>Date</th>\n",
       "      <th></th>\n",
       "      <th></th>\n",
       "      <th></th>\n",
       "      <th></th>\n",
       "    </tr>\n",
       "  </thead>\n",
       "  <tbody>\n",
       "    <tr>\n",
       "      <th>2020-11-23</th>\n",
       "      <td>132.713486</td>\n",
       "      <td>341.531494</td>\n",
       "      <td>103.089333</td>\n",
       "      <td>61.154251</td>\n",
       "    </tr>\n",
       "    <tr>\n",
       "      <th>2020-11-24</th>\n",
       "      <td>132.713486</td>\n",
       "      <td>348.558289</td>\n",
       "      <td>103.469933</td>\n",
       "      <td>61.559067</td>\n",
       "    </tr>\n",
       "    <tr>\n",
       "      <th>2020-11-25</th>\n",
       "      <td>132.538223</td>\n",
       "      <td>348.429352</td>\n",
       "      <td>103.971222</td>\n",
       "      <td>61.945477</td>\n",
       "    </tr>\n",
       "    <tr>\n",
       "      <th>2020-11-27</th>\n",
       "      <td>132.833389</td>\n",
       "      <td>344.745575</td>\n",
       "      <td>104.630333</td>\n",
       "      <td>61.973076</td>\n",
       "    </tr>\n",
       "    <tr>\n",
       "      <th>2020-11-30</th>\n",
       "      <td>133.460693</td>\n",
       "      <td>338.495056</td>\n",
       "      <td>103.117180</td>\n",
       "      <td>61.430256</td>\n",
       "    </tr>\n",
       "  </tbody>\n",
       "</table>\n",
       "</div>"
      ],
      "text/plain": [
       "                   JNJ         LMT       NSRGY      SIEGY\n",
       "Date                                                     \n",
       "2020-11-23  132.713486  341.531494  103.089333  61.154251\n",
       "2020-11-24  132.713486  348.558289  103.469933  61.559067\n",
       "2020-11-25  132.538223  348.429352  103.971222  61.945477\n",
       "2020-11-27  132.833389  344.745575  104.630333  61.973076\n",
       "2020-11-30  133.460693  338.495056  103.117180  61.430256"
      ]
     },
     "execution_count": 29,
     "metadata": {},
     "output_type": "execute_result"
    }
   ],
   "source": [
    "#Datos con ticker grabados en lista de stocks por 3 años\n",
    "data2= yf.download(stocks2, start=start, end=end)[\"Adj Close\"].dropna()\n",
    "data2.head()"
   ]
  },
  {
   "cell_type": "code",
   "execution_count": 30,
   "id": "3ab8f9b5",
   "metadata": {},
   "outputs": [
    {
     "data": {
      "text/html": [
       "<div>\n",
       "<style scoped>\n",
       "    .dataframe tbody tr th:only-of-type {\n",
       "        vertical-align: middle;\n",
       "    }\n",
       "\n",
       "    .dataframe tbody tr th {\n",
       "        vertical-align: top;\n",
       "    }\n",
       "\n",
       "    .dataframe thead th {\n",
       "        text-align: right;\n",
       "    }\n",
       "</style>\n",
       "<table border=\"1\" class=\"dataframe\">\n",
       "  <thead>\n",
       "    <tr style=\"text-align: right;\">\n",
       "      <th></th>\n",
       "      <th>JNJ</th>\n",
       "      <th>LMT</th>\n",
       "      <th>NSRGY</th>\n",
       "      <th>SIEGY</th>\n",
       "    </tr>\n",
       "    <tr>\n",
       "      <th>Date</th>\n",
       "      <th></th>\n",
       "      <th></th>\n",
       "      <th></th>\n",
       "      <th></th>\n",
       "    </tr>\n",
       "  </thead>\n",
       "  <tbody>\n",
       "    <tr>\n",
       "      <th>2020-11-23</th>\n",
       "      <td>NaN</td>\n",
       "      <td>NaN</td>\n",
       "      <td>NaN</td>\n",
       "      <td>NaN</td>\n",
       "    </tr>\n",
       "    <tr>\n",
       "      <th>2020-11-24</th>\n",
       "      <td>0.000000</td>\n",
       "      <td>0.020574</td>\n",
       "      <td>0.003692</td>\n",
       "      <td>0.006620</td>\n",
       "    </tr>\n",
       "    <tr>\n",
       "      <th>2020-11-25</th>\n",
       "      <td>-0.001321</td>\n",
       "      <td>-0.000370</td>\n",
       "      <td>0.004845</td>\n",
       "      <td>0.006277</td>\n",
       "    </tr>\n",
       "    <tr>\n",
       "      <th>2020-11-27</th>\n",
       "      <td>0.002227</td>\n",
       "      <td>-0.010573</td>\n",
       "      <td>0.006339</td>\n",
       "      <td>0.000446</td>\n",
       "    </tr>\n",
       "    <tr>\n",
       "      <th>2020-11-30</th>\n",
       "      <td>0.004722</td>\n",
       "      <td>-0.018131</td>\n",
       "      <td>-0.014462</td>\n",
       "      <td>-0.008759</td>\n",
       "    </tr>\n",
       "  </tbody>\n",
       "</table>\n",
       "</div>"
      ],
      "text/plain": [
       "                 JNJ       LMT     NSRGY     SIEGY\n",
       "Date                                              \n",
       "2020-11-23       NaN       NaN       NaN       NaN\n",
       "2020-11-24  0.000000  0.020574  0.003692  0.006620\n",
       "2020-11-25 -0.001321 -0.000370  0.004845  0.006277\n",
       "2020-11-27  0.002227 -0.010573  0.006339  0.000446\n",
       "2020-11-30  0.004722 -0.018131 -0.014462 -0.008759"
      ]
     },
     "execution_count": 30,
     "metadata": {},
     "output_type": "execute_result"
    }
   ],
   "source": [
    "#Razones de cambio: retornos %\n",
    "returns2= data2.pct_change()\n",
    "returns2.head()"
   ]
  },
  {
   "cell_type": "code",
   "execution_count": 31,
   "id": "ff914de1",
   "metadata": {},
   "outputs": [
    {
     "data": {
      "text/plain": [
       "JNJ      0.000222\n",
       "LMT      0.000462\n",
       "NSRGY    0.000185\n",
       "SIEGY    0.000572\n",
       "dtype: float64"
      ]
     },
     "execution_count": 31,
     "metadata": {},
     "output_type": "execute_result"
    }
   ],
   "source": [
    "#Cambios medios por acción:\n",
    "retorno_medio2= returns2.mean()\n",
    "retorno_medio2"
   ]
  },
  {
   "cell_type": "code",
   "execution_count": 32,
   "id": "05a50336",
   "metadata": {},
   "outputs": [
    {
     "data": {
      "text/plain": [
       "array([0.25, 0.25, 0.25, 0.25])"
      ]
     },
     "execution_count": 32,
     "metadata": {},
     "output_type": "execute_result"
    }
   ],
   "source": [
    "#DEFINIR PESOS DEL PORTAFOLIO\n",
    "pesos= np.array([0.25,0.25,0.25,0.25])\n",
    "pesos"
   ]
  },
  {
   "cell_type": "code",
   "execution_count": 33,
   "id": "a8823c4b",
   "metadata": {},
   "outputs": [
    {
     "data": {
      "text/plain": [
       "0.0003601751442721183"
      ]
     },
     "execution_count": 33,
     "metadata": {},
     "output_type": "execute_result"
    }
   ],
   "source": [
    "#Calcular el retorno promedio ponderado:\n",
    "retorno_port=np.sum(retorno_medio2*pesos)\n",
    "retorno_port"
   ]
  },
  {
   "cell_type": "code",
   "execution_count": 34,
   "id": "61c5985e",
   "metadata": {},
   "outputs": [
    {
     "data": {
      "text/html": [
       "<div>\n",
       "<style scoped>\n",
       "    .dataframe tbody tr th:only-of-type {\n",
       "        vertical-align: middle;\n",
       "    }\n",
       "\n",
       "    .dataframe tbody tr th {\n",
       "        vertical-align: top;\n",
       "    }\n",
       "\n",
       "    .dataframe thead th {\n",
       "        text-align: right;\n",
       "    }\n",
       "</style>\n",
       "<table border=\"1\" class=\"dataframe\">\n",
       "  <thead>\n",
       "    <tr style=\"text-align: right;\">\n",
       "      <th></th>\n",
       "      <th>JNJ</th>\n",
       "      <th>LMT</th>\n",
       "      <th>NSRGY</th>\n",
       "      <th>SIEGY</th>\n",
       "      <th>Portafolio</th>\n",
       "    </tr>\n",
       "    <tr>\n",
       "      <th>Date</th>\n",
       "      <th></th>\n",
       "      <th></th>\n",
       "      <th></th>\n",
       "      <th></th>\n",
       "      <th></th>\n",
       "    </tr>\n",
       "  </thead>\n",
       "  <tbody>\n",
       "    <tr>\n",
       "      <th>2020-11-23</th>\n",
       "      <td>NaN</td>\n",
       "      <td>NaN</td>\n",
       "      <td>NaN</td>\n",
       "      <td>NaN</td>\n",
       "      <td>NaN</td>\n",
       "    </tr>\n",
       "    <tr>\n",
       "      <th>2020-11-24</th>\n",
       "      <td>1.000000</td>\n",
       "      <td>1.020574</td>\n",
       "      <td>1.003692</td>\n",
       "      <td>1.006620</td>\n",
       "      <td>1.007721</td>\n",
       "    </tr>\n",
       "    <tr>\n",
       "      <th>2020-11-25</th>\n",
       "      <td>0.998679</td>\n",
       "      <td>1.020197</td>\n",
       "      <td>1.008555</td>\n",
       "      <td>1.012938</td>\n",
       "      <td>1.010098</td>\n",
       "    </tr>\n",
       "    <tr>\n",
       "      <th>2020-11-27</th>\n",
       "      <td>1.000903</td>\n",
       "      <td>1.009411</td>\n",
       "      <td>1.014948</td>\n",
       "      <td>1.013389</td>\n",
       "      <td>1.009703</td>\n",
       "    </tr>\n",
       "    <tr>\n",
       "      <th>2020-11-30</th>\n",
       "      <td>1.005630</td>\n",
       "      <td>0.991109</td>\n",
       "      <td>1.000270</td>\n",
       "      <td>1.004513</td>\n",
       "      <td>1.000457</td>\n",
       "    </tr>\n",
       "    <tr>\n",
       "      <th>...</th>\n",
       "      <td>...</td>\n",
       "      <td>...</td>\n",
       "      <td>...</td>\n",
       "      <td>...</td>\n",
       "      <td>...</td>\n",
       "    </tr>\n",
       "    <tr>\n",
       "      <th>2023-11-16</th>\n",
       "      <td>1.122023</td>\n",
       "      <td>1.304682</td>\n",
       "      <td>1.075475</td>\n",
       "      <td>1.303589</td>\n",
       "      <td>1.255376</td>\n",
       "    </tr>\n",
       "    <tr>\n",
       "      <th>2023-11-17</th>\n",
       "      <td>1.119705</td>\n",
       "      <td>1.302018</td>\n",
       "      <td>1.080131</td>\n",
       "      <td>1.323375</td>\n",
       "      <td>1.260209</td>\n",
       "    </tr>\n",
       "    <tr>\n",
       "      <th>2023-11-20</th>\n",
       "      <td>1.129576</td>\n",
       "      <td>1.299470</td>\n",
       "      <td>1.073244</td>\n",
       "      <td>1.320432</td>\n",
       "      <td>1.259661</td>\n",
       "    </tr>\n",
       "    <tr>\n",
       "      <th>2023-11-21</th>\n",
       "      <td>1.138694</td>\n",
       "      <td>1.312178</td>\n",
       "      <td>1.092742</td>\n",
       "      <td>1.319941</td>\n",
       "      <td>1.270886</td>\n",
       "    </tr>\n",
       "    <tr>\n",
       "      <th>2023-11-22</th>\n",
       "      <td>1.136433</td>\n",
       "      <td>1.318766</td>\n",
       "      <td>1.098465</td>\n",
       "      <td>1.328608</td>\n",
       "      <td>1.275601</td>\n",
       "    </tr>\n",
       "  </tbody>\n",
       "</table>\n",
       "<p>755 rows × 5 columns</p>\n",
       "</div>"
      ],
      "text/plain": [
       "                 JNJ       LMT     NSRGY     SIEGY  Portafolio\n",
       "Date                                                          \n",
       "2020-11-23       NaN       NaN       NaN       NaN         NaN\n",
       "2020-11-24  1.000000  1.020574  1.003692  1.006620    1.007721\n",
       "2020-11-25  0.998679  1.020197  1.008555  1.012938    1.010098\n",
       "2020-11-27  1.000903  1.009411  1.014948  1.013389    1.009703\n",
       "2020-11-30  1.005630  0.991109  1.000270  1.004513    1.000457\n",
       "...              ...       ...       ...       ...         ...\n",
       "2023-11-16  1.122023  1.304682  1.075475  1.303589    1.255376\n",
       "2023-11-17  1.119705  1.302018  1.080131  1.323375    1.260209\n",
       "2023-11-20  1.129576  1.299470  1.073244  1.320432    1.259661\n",
       "2023-11-21  1.138694  1.312178  1.092742  1.319941    1.270886\n",
       "2023-11-22  1.136433  1.318766  1.098465  1.328608    1.275601\n",
       "\n",
       "[755 rows x 5 columns]"
      ]
     },
     "execution_count": 34,
     "metadata": {},
     "output_type": "execute_result"
    }
   ],
   "source": [
    "###retorno acumulado por accion o cada una de las fechas:\n",
    "#RETORNO DEL PORTAFOLIO / HISTORICO\n",
    "returns2[\"Portafolio\"]=returns2.dot(pesos)\n",
    "\n",
    "#Calcular los retornos acumulados: Le sumaré 1 porque ahi invertí mi 100%\n",
    "returns2\n",
    "\n",
    "ret_acumulado= (1+returns2).cumprod()\n",
    "ret_acumulado"
   ]
  },
  {
   "cell_type": "code",
   "execution_count": 35,
   "id": "4afc9af9",
   "metadata": {},
   "outputs": [
    {
     "name": "stdout",
     "output_type": "stream",
     "text": [
      "[*********************100%%**********************]  1 of 1 completed\n"
     ]
    },
    {
     "data": {
      "text/plain": [
       "Date\n",
       "2020-11-23    3577.590088\n",
       "2020-11-24    3635.409912\n",
       "2020-11-25    3629.649902\n",
       "2020-11-27    3638.350098\n",
       "2020-11-30    3621.629883\n",
       "                 ...     \n",
       "2023-11-16    4508.240234\n",
       "2023-11-17    4514.020020\n",
       "2023-11-20    4547.379883\n",
       "2023-11-21    4538.189941\n",
       "2023-11-22    4556.620117\n",
       "Name: Adj Close, Length: 755, dtype: float64"
      ]
     },
     "execution_count": 35,
     "metadata": {},
     "output_type": "execute_result"
    }
   ],
   "source": [
    "#comparar portafolio con el S&P\n",
    "syp=yf.download(\"^GSPC\", start=start, end=end)[\"Adj Close\"]\n",
    "syp"
   ]
  },
  {
   "cell_type": "code",
   "execution_count": 36,
   "id": "f09a6294",
   "metadata": {},
   "outputs": [
    {
     "data": {
      "text/plain": [
       "Date\n",
       "2020-11-23         NaN\n",
       "2020-11-24    0.016162\n",
       "2020-11-25   -0.001584\n",
       "2020-11-27    0.002397\n",
       "2020-11-30   -0.004596\n",
       "                ...   \n",
       "2023-11-16    0.001190\n",
       "2023-11-17    0.001282\n",
       "2023-11-20    0.007390\n",
       "2023-11-21   -0.002021\n",
       "2023-11-22    0.004061\n",
       "Name: Adj Close, Length: 755, dtype: float64"
      ]
     },
     "execution_count": 36,
     "metadata": {},
     "output_type": "execute_result"
    }
   ],
   "source": [
    "#retorno en porcentajes\n",
    "retsyp=syp.pct_change()\n",
    "retsyp"
   ]
  },
  {
   "cell_type": "code",
   "execution_count": 37,
   "id": "0fca6bd7",
   "metadata": {},
   "outputs": [
    {
     "data": {
      "text/plain": [
       "0.00038234266782819827"
      ]
     },
     "execution_count": 37,
     "metadata": {},
     "output_type": "execute_result"
    }
   ],
   "source": [
    "#retorno medio:\n",
    "retsyp_total=np.mean(retsyp)\n",
    "retsyp_total"
   ]
  },
  {
   "cell_type": "code",
   "execution_count": 38,
   "id": "b4ec53b3",
   "metadata": {},
   "outputs": [
    {
     "data": {
      "text/plain": [
       "-2.2167523556079966e-05"
      ]
     },
     "execution_count": 38,
     "metadata": {},
     "output_type": "execute_result"
    }
   ],
   "source": [
    "#RETORNO ACTIVO\n",
    "retact= retorno_port-retsyp_total\n",
    "retact"
   ]
  },
  {
   "cell_type": "markdown",
   "id": "1d6176f3",
   "metadata": {},
   "source": [
    "# Parte 5:"
   ]
  },
  {
   "cell_type": "code",
   "execution_count": 50,
   "id": "17bfc75a",
   "metadata": {},
   "outputs": [
    {
     "name": "stdout",
     "output_type": "stream",
     "text": [
      "            JNJ       LMT     NSRGY     SIEGY\n",
      "JNJ    0.026420  0.008865  0.006888  0.008258\n",
      "LMT    0.008865  0.047666  0.005841  0.001172\n",
      "NSRGY  0.006888  0.005841  0.030345  0.018033\n",
      "SIEGY  0.008258  0.001172  0.018033  0.098798\n"
     ]
    }
   ],
   "source": [
    "sigma = risk_models.sample_cov(data2)\n",
    "print(sigma)"
   ]
  },
  {
   "cell_type": "code",
   "execution_count": 51,
   "id": "373de3f7",
   "metadata": {},
   "outputs": [
    {
     "name": "stdout",
     "output_type": "stream",
     "text": [
      "JNJ      0.043671\n",
      "LMT      0.096888\n",
      "NSRGY    0.031885\n",
      "SIEGY    0.099617\n",
      "dtype: float64\n"
     ]
    }
   ],
   "source": [
    "#Retorno\n",
    "mu1 = expected_returns.mean_historical_return(data2)\n",
    "print(mu1)"
   ]
  },
  {
   "cell_type": "code",
   "execution_count": 52,
   "id": "46780b1d",
   "metadata": {},
   "outputs": [],
   "source": [
    "#Frontera eficiente\n",
    "ef1 = EfficientFrontier(mu1,sigma)"
   ]
  },
  {
   "cell_type": "code",
   "execution_count": 53,
   "id": "2b14f417",
   "metadata": {},
   "outputs": [
    {
     "name": "stdout",
     "output_type": "stream",
     "text": [
      "OrderedDict([('JNJ', 0.0510328003932084), ('LMT', 0.6349513881269807), ('NSRGY', 0.0), ('SIEGY', 0.314015811479811)])\n"
     ]
    }
   ],
   "source": [
    "#Máximo portafolio con el sharpe\n",
    "\n",
    "weights= ef1.max_sharpe()\n",
    "print(weights)"
   ]
  },
  {
   "cell_type": "code",
   "execution_count": 55,
   "id": "4c840a3a",
   "metadata": {},
   "outputs": [
    {
     "name": "stdout",
     "output_type": "stream",
     "text": [
      "Expected annual return: 9.5%\n",
      "Annual volatility: 17.4%\n",
      "Sharpe Ratio: 0.43\n"
     ]
    },
    {
     "data": {
      "text/plain": [
       "(0.09502880862589153, 0.174168217601037, 0.43078358186887017)"
      ]
     },
     "execution_count": 55,
     "metadata": {},
     "output_type": "execute_result"
    }
   ],
   "source": [
    "#Resultados del portafolio de máximo sharpe\n",
    "ef1.portfolio_performance(verbose=True)"
   ]
  },
  {
   "cell_type": "code",
   "execution_count": 57,
   "id": "2e2c66a8",
   "metadata": {},
   "outputs": [
    {
     "name": "stdout",
     "output_type": "stream",
     "text": [
      "OrderedDict([('JNJ', 0.4033156628193596), ('LMT', 0.2019080255857481), ('NSRGY', 0.3383691111993144), ('SIEGY', 0.0564072003955779)])\n"
     ]
    }
   ],
   "source": [
    "#Portafolio que la minima volatilidad\n",
    "\n",
    "ef2 = EfficientFrontier(mu1,sigma) #Limpiar los resultados de la última optimización o volver\n",
    "#a correr la frontera antes de hacer una nueva optimización\n",
    "weights2 = ef2.min_volatility()\n",
    "print(weights2)"
   ]
  },
  {
   "cell_type": "code",
   "execution_count": 59,
   "id": "03a9ca42",
   "metadata": {},
   "outputs": [
    {
     "name": "stdout",
     "output_type": "stream",
     "text": [
      "Expected annual return: 5.4%\n",
      "Annual volatility: 12.3%\n",
      "Sharpe Ratio: 0.27\n"
     ]
    },
    {
     "data": {
      "text/plain": [
       "(0.05358381497907703, 0.12345836391229675, 0.27202543363473164)"
      ]
     },
     "execution_count": 59,
     "metadata": {},
     "output_type": "execute_result"
    }
   ],
   "source": [
    "#Resultados de portafolio que la mínima volatilidad\n",
    "\n",
    "ef2.portfolio_performance(verbose=True)"
   ]
  },
  {
   "cell_type": "markdown",
   "id": "cd894fe2",
   "metadata": {},
   "source": [
    "# Parte 6:"
   ]
  },
  {
   "cell_type": "markdown",
   "id": "4591d700",
   "metadata": {},
   "source": [
    "#### a.\t¿Hay diferencia entre ambos portafolios? \n",
    "\n",
    "Tenemos de que en primera instancia sí que hay diferencias en el rendimientos, después de todo lo que nuesrtos clientes quieren es que tengan un redimiento mayor. El portafolio con el máximo sharpe tiene un mejor rendimiento. Lo mismo sucede con el sharpe del portafolio con el máximo de sharpe, es una un balance. En resumen, el Portafolio con máximo de sharpe tiene un rendimiento esperado y un Sharpe Ratio más altos, pero también tiene una mayor volatilidad en comparación con el Portafolio 2. La elección entre los dos dependerá de las preferencias del inversionista en términos de tolerancia al riesgo y objetivos de rendimiento.\n",
    "\n",
    "#### b.\t¿Hay diferencia con el portafolio del inciso 4? \n",
    "\n",
    "Si tiene una diferencia, esto más que todo en cuestiones de rentabilidad. Pero esto se debe a que el portafolio del inciso 6 ya está optimizado.\n",
    "\n",
    "#### c.\t¿En cuál recomendaría invertir? \n",
    "\n",
    "Recomiendo el portafolio con el máximo sharpe ya que tiene un buen balance entre riesgo y rendimiento. Además que el rendimiento es mayor y nuestros clientes eso es lo que están buscando.\n"
   ]
  },
  {
   "cell_type": "markdown",
   "id": "67c2dd31",
   "metadata": {},
   "source": [
    "# Parte 7:"
   ]
  },
  {
   "cell_type": "code",
   "execution_count": 104,
   "id": "7da6ced8",
   "metadata": {},
   "outputs": [
    {
     "data": {
      "text/plain": [
       "['LMT', 'SIEGY', 'JNJ', 'NSRGY']"
      ]
     },
     "execution_count": 104,
     "metadata": {},
     "output_type": "execute_result"
    }
   ],
   "source": [
    "#PORTAFOLIO CON LAS ACCIONES RECOMENDADAS\n",
    "stocks_MS=[\"LMT\",\"SIEGY\",\"JNJ\", \"NSRGY\"]\n",
    "stocks_MS"
   ]
  },
  {
   "cell_type": "code",
   "execution_count": 105,
   "id": "62ff27c0",
   "metadata": {},
   "outputs": [
    {
     "name": "stdout",
     "output_type": "stream",
     "text": [
      "[*********************100%%**********************]  4 of 4 completed\n"
     ]
    },
    {
     "data": {
      "text/html": [
       "<div>\n",
       "<style scoped>\n",
       "    .dataframe tbody tr th:only-of-type {\n",
       "        vertical-align: middle;\n",
       "    }\n",
       "\n",
       "    .dataframe tbody tr th {\n",
       "        vertical-align: top;\n",
       "    }\n",
       "\n",
       "    .dataframe thead th {\n",
       "        text-align: right;\n",
       "    }\n",
       "</style>\n",
       "<table border=\"1\" class=\"dataframe\">\n",
       "  <thead>\n",
       "    <tr style=\"text-align: right;\">\n",
       "      <th></th>\n",
       "      <th>JNJ</th>\n",
       "      <th>LMT</th>\n",
       "      <th>NSRGY</th>\n",
       "      <th>SIEGY</th>\n",
       "    </tr>\n",
       "    <tr>\n",
       "      <th>Date</th>\n",
       "      <th></th>\n",
       "      <th></th>\n",
       "      <th></th>\n",
       "      <th></th>\n",
       "    </tr>\n",
       "  </thead>\n",
       "  <tbody>\n",
       "    <tr>\n",
       "      <th>2020-11-23</th>\n",
       "      <td>132.713455</td>\n",
       "      <td>341.531464</td>\n",
       "      <td>103.089325</td>\n",
       "      <td>61.154251</td>\n",
       "    </tr>\n",
       "    <tr>\n",
       "      <th>2020-11-24</th>\n",
       "      <td>132.713455</td>\n",
       "      <td>348.558258</td>\n",
       "      <td>103.469940</td>\n",
       "      <td>61.559067</td>\n",
       "    </tr>\n",
       "    <tr>\n",
       "      <th>2020-11-25</th>\n",
       "      <td>132.538193</td>\n",
       "      <td>348.429352</td>\n",
       "      <td>103.971222</td>\n",
       "      <td>61.945477</td>\n",
       "    </tr>\n",
       "    <tr>\n",
       "      <th>2020-11-27</th>\n",
       "      <td>132.833374</td>\n",
       "      <td>344.745514</td>\n",
       "      <td>104.630333</td>\n",
       "      <td>61.973076</td>\n",
       "    </tr>\n",
       "    <tr>\n",
       "      <th>2020-11-30</th>\n",
       "      <td>133.460663</td>\n",
       "      <td>338.494995</td>\n",
       "      <td>103.117180</td>\n",
       "      <td>61.430256</td>\n",
       "    </tr>\n",
       "  </tbody>\n",
       "</table>\n",
       "</div>"
      ],
      "text/plain": [
       "                   JNJ         LMT       NSRGY      SIEGY\n",
       "Date                                                     \n",
       "2020-11-23  132.713455  341.531464  103.089325  61.154251\n",
       "2020-11-24  132.713455  348.558258  103.469940  61.559067\n",
       "2020-11-25  132.538193  348.429352  103.971222  61.945477\n",
       "2020-11-27  132.833374  344.745514  104.630333  61.973076\n",
       "2020-11-30  133.460663  338.494995  103.117180  61.430256"
      ]
     },
     "execution_count": 105,
     "metadata": {},
     "output_type": "execute_result"
    }
   ],
   "source": [
    "data3= yf.download(stocks_MS, start=start, end=end)[\"Adj Close\"].dropna()\n",
    "data3.head()"
   ]
  },
  {
   "cell_type": "code",
   "execution_count": 119,
   "id": "854e1227",
   "metadata": {},
   "outputs": [
    {
     "data": {
      "text/html": [
       "<div>\n",
       "<style scoped>\n",
       "    .dataframe tbody tr th:only-of-type {\n",
       "        vertical-align: middle;\n",
       "    }\n",
       "\n",
       "    .dataframe tbody tr th {\n",
       "        vertical-align: top;\n",
       "    }\n",
       "\n",
       "    .dataframe thead th {\n",
       "        text-align: right;\n",
       "    }\n",
       "</style>\n",
       "<table border=\"1\" class=\"dataframe\">\n",
       "  <thead>\n",
       "    <tr style=\"text-align: right;\">\n",
       "      <th></th>\n",
       "      <th>JNJ</th>\n",
       "      <th>LMT</th>\n",
       "      <th>NSRGY</th>\n",
       "      <th>SIEGY</th>\n",
       "    </tr>\n",
       "    <tr>\n",
       "      <th>Date</th>\n",
       "      <th></th>\n",
       "      <th></th>\n",
       "      <th></th>\n",
       "      <th></th>\n",
       "    </tr>\n",
       "  </thead>\n",
       "  <tbody>\n",
       "    <tr>\n",
       "      <th>2020-11-23</th>\n",
       "      <td>NaN</td>\n",
       "      <td>NaN</td>\n",
       "      <td>NaN</td>\n",
       "      <td>NaN</td>\n",
       "    </tr>\n",
       "    <tr>\n",
       "      <th>2020-11-24</th>\n",
       "      <td>0.000000</td>\n",
       "      <td>0.020574</td>\n",
       "      <td>0.003692</td>\n",
       "      <td>0.006620</td>\n",
       "    </tr>\n",
       "    <tr>\n",
       "      <th>2020-11-25</th>\n",
       "      <td>-0.001321</td>\n",
       "      <td>-0.000370</td>\n",
       "      <td>0.004845</td>\n",
       "      <td>0.006277</td>\n",
       "    </tr>\n",
       "    <tr>\n",
       "      <th>2020-11-27</th>\n",
       "      <td>0.002227</td>\n",
       "      <td>-0.010573</td>\n",
       "      <td>0.006339</td>\n",
       "      <td>0.000446</td>\n",
       "    </tr>\n",
       "    <tr>\n",
       "      <th>2020-11-30</th>\n",
       "      <td>0.004722</td>\n",
       "      <td>-0.018131</td>\n",
       "      <td>-0.014462</td>\n",
       "      <td>-0.008759</td>\n",
       "    </tr>\n",
       "  </tbody>\n",
       "</table>\n",
       "</div>"
      ],
      "text/plain": [
       "                 JNJ       LMT     NSRGY     SIEGY\n",
       "Date                                              \n",
       "2020-11-23       NaN       NaN       NaN       NaN\n",
       "2020-11-24  0.000000  0.020574  0.003692  0.006620\n",
       "2020-11-25 -0.001321 -0.000370  0.004845  0.006277\n",
       "2020-11-27  0.002227 -0.010573  0.006339  0.000446\n",
       "2020-11-30  0.004722 -0.018131 -0.014462 -0.008759"
      ]
     },
     "execution_count": 119,
     "metadata": {},
     "output_type": "execute_result"
    }
   ],
   "source": [
    "returns3= data3.pct_change()\n",
    "returns3.head()"
   ]
  },
  {
   "cell_type": "code",
   "execution_count": 154,
   "id": "25bc6820",
   "metadata": {},
   "outputs": [
    {
     "ename": "ValueError",
     "evalue": "Dot product shape mismatch, (755, 5) vs (4,)",
     "output_type": "error",
     "traceback": [
      "\u001b[1;31m---------------------------------------------------------------------------\u001b[0m",
      "\u001b[1;31mValueError\u001b[0m                                Traceback (most recent call last)",
      "Cell \u001b[1;32mIn[154], line 2\u001b[0m\n\u001b[0;32m      1\u001b[0m pesos3 \u001b[38;5;241m=\u001b[39m np\u001b[38;5;241m.\u001b[39marray([\u001b[38;5;241m0.0510328003932084\u001b[39m, \u001b[38;5;241m0.6349513881269807\u001b[39m, \u001b[38;5;241m0\u001b[39m, \u001b[38;5;241m0.314015811479811\u001b[39m])\n\u001b[1;32m----> 2\u001b[0m returns3[\u001b[38;5;124m\"\u001b[39m\u001b[38;5;124mPortafolio_SHARPE\u001b[39m\u001b[38;5;124m\"\u001b[39m] \u001b[38;5;241m=\u001b[39m returns3\u001b[38;5;241m.\u001b[39mdot(pesos3)\n\u001b[0;32m      3\u001b[0m ret_acumulado_sharpe \u001b[38;5;241m=\u001b[39m (\u001b[38;5;241m1\u001b[39m \u001b[38;5;241m+\u001b[39m returns3[\u001b[38;5;124m\"\u001b[39m\u001b[38;5;124mPortafolio_SHARPE\u001b[39m\u001b[38;5;124m\"\u001b[39m])\u001b[38;5;241m.\u001b[39mcumprod()\u001b[38;5;241m.\u001b[39mdropna()\n\u001b[0;32m      4\u001b[0m ret_acumulado_sharpe\u001b[38;5;241m.\u001b[39mhead()\n",
      "File \u001b[1;32m~\\anaconda3\\Lib\\site-packages\\pandas\\core\\frame.py:1603\u001b[0m, in \u001b[0;36mDataFrame.dot\u001b[1;34m(self, other)\u001b[0m\n\u001b[0;32m   1601\u001b[0m     rvals \u001b[38;5;241m=\u001b[39m np\u001b[38;5;241m.\u001b[39masarray(other)\n\u001b[0;32m   1602\u001b[0m     \u001b[38;5;28;01mif\u001b[39;00m lvals\u001b[38;5;241m.\u001b[39mshape[\u001b[38;5;241m1\u001b[39m] \u001b[38;5;241m!=\u001b[39m rvals\u001b[38;5;241m.\u001b[39mshape[\u001b[38;5;241m0\u001b[39m]:\n\u001b[1;32m-> 1603\u001b[0m         \u001b[38;5;28;01mraise\u001b[39;00m \u001b[38;5;167;01mValueError\u001b[39;00m(\n\u001b[0;32m   1604\u001b[0m             \u001b[38;5;124mf\u001b[39m\u001b[38;5;124m\"\u001b[39m\u001b[38;5;124mDot product shape mismatch, \u001b[39m\u001b[38;5;132;01m{\u001b[39;00mlvals\u001b[38;5;241m.\u001b[39mshape\u001b[38;5;132;01m}\u001b[39;00m\u001b[38;5;124m vs \u001b[39m\u001b[38;5;132;01m{\u001b[39;00mrvals\u001b[38;5;241m.\u001b[39mshape\u001b[38;5;132;01m}\u001b[39;00m\u001b[38;5;124m\"\u001b[39m\n\u001b[0;32m   1605\u001b[0m         )\n\u001b[0;32m   1607\u001b[0m \u001b[38;5;28;01mif\u001b[39;00m \u001b[38;5;28misinstance\u001b[39m(other, DataFrame):\n\u001b[0;32m   1608\u001b[0m     \u001b[38;5;28;01mreturn\u001b[39;00m \u001b[38;5;28mself\u001b[39m\u001b[38;5;241m.\u001b[39m_constructor(\n\u001b[0;32m   1609\u001b[0m         np\u001b[38;5;241m.\u001b[39mdot(lvals, rvals), index\u001b[38;5;241m=\u001b[39mleft\u001b[38;5;241m.\u001b[39mindex, columns\u001b[38;5;241m=\u001b[39mother\u001b[38;5;241m.\u001b[39mcolumns\n\u001b[0;32m   1610\u001b[0m     )\n",
      "\u001b[1;31mValueError\u001b[0m: Dot product shape mismatch, (755, 5) vs (4,)"
     ]
    }
   ],
   "source": [
    "pesos3 = np.array([0.0510328003932084, 0.6349513881269807, 0, 0.314015811479811])\n",
    "returns3[\"Portafolio_SHARPE\"] = returns3.dot(pesos3)\n",
    "ret_acumulado_sharpe = (1 + returns3[\"Portafolio_SHARPE\"]).cumprod().dropna()\n",
    "ret_acumulado_sharpe.head()"
   ]
  },
  {
   "cell_type": "code",
   "execution_count": 121,
   "id": "2fabfbd2",
   "metadata": {},
   "outputs": [
    {
     "data": {
      "text/plain": [
       "['LMT', 'SIEGY', 'JNJ', 'NSRGY']"
      ]
     },
     "execution_count": 121,
     "metadata": {},
     "output_type": "execute_result"
    }
   ],
   "source": [
    "### PORTAFOLIO 2 CON ACCIONES RECOMENDADAS\n",
    "\n",
    "#PORTAFOLIO CON LAS ACCIONES RECOMENDADAS\n",
    "stocks_MS2=[\"LMT\",\"SIEGY\",\"JNJ\", \"NSRGY\"]\n",
    "stocks_MS2"
   ]
  },
  {
   "cell_type": "code",
   "execution_count": 122,
   "id": "01265411",
   "metadata": {},
   "outputs": [
    {
     "name": "stdout",
     "output_type": "stream",
     "text": [
      "[*********************100%%**********************]  4 of 4 completed\n"
     ]
    },
    {
     "data": {
      "text/html": [
       "<div>\n",
       "<style scoped>\n",
       "    .dataframe tbody tr th:only-of-type {\n",
       "        vertical-align: middle;\n",
       "    }\n",
       "\n",
       "    .dataframe tbody tr th {\n",
       "        vertical-align: top;\n",
       "    }\n",
       "\n",
       "    .dataframe thead th {\n",
       "        text-align: right;\n",
       "    }\n",
       "</style>\n",
       "<table border=\"1\" class=\"dataframe\">\n",
       "  <thead>\n",
       "    <tr style=\"text-align: right;\">\n",
       "      <th></th>\n",
       "      <th>JNJ</th>\n",
       "      <th>LMT</th>\n",
       "      <th>NSRGY</th>\n",
       "      <th>SIEGY</th>\n",
       "    </tr>\n",
       "    <tr>\n",
       "      <th>Date</th>\n",
       "      <th></th>\n",
       "      <th></th>\n",
       "      <th></th>\n",
       "      <th></th>\n",
       "    </tr>\n",
       "  </thead>\n",
       "  <tbody>\n",
       "    <tr>\n",
       "      <th>2020-11-23</th>\n",
       "      <td>132.713501</td>\n",
       "      <td>341.531494</td>\n",
       "      <td>103.089325</td>\n",
       "      <td>61.154251</td>\n",
       "    </tr>\n",
       "    <tr>\n",
       "      <th>2020-11-24</th>\n",
       "      <td>132.713501</td>\n",
       "      <td>348.558289</td>\n",
       "      <td>103.469933</td>\n",
       "      <td>61.559063</td>\n",
       "    </tr>\n",
       "    <tr>\n",
       "      <th>2020-11-25</th>\n",
       "      <td>132.538223</td>\n",
       "      <td>348.429321</td>\n",
       "      <td>103.971230</td>\n",
       "      <td>61.945477</td>\n",
       "    </tr>\n",
       "    <tr>\n",
       "      <th>2020-11-27</th>\n",
       "      <td>132.833405</td>\n",
       "      <td>344.745575</td>\n",
       "      <td>104.630333</td>\n",
       "      <td>61.973072</td>\n",
       "    </tr>\n",
       "    <tr>\n",
       "      <th>2020-11-30</th>\n",
       "      <td>133.460648</td>\n",
       "      <td>338.495056</td>\n",
       "      <td>103.117180</td>\n",
       "      <td>61.430252</td>\n",
       "    </tr>\n",
       "  </tbody>\n",
       "</table>\n",
       "</div>"
      ],
      "text/plain": [
       "                   JNJ         LMT       NSRGY      SIEGY\n",
       "Date                                                     \n",
       "2020-11-23  132.713501  341.531494  103.089325  61.154251\n",
       "2020-11-24  132.713501  348.558289  103.469933  61.559063\n",
       "2020-11-25  132.538223  348.429321  103.971230  61.945477\n",
       "2020-11-27  132.833405  344.745575  104.630333  61.973072\n",
       "2020-11-30  133.460648  338.495056  103.117180  61.430252"
      ]
     },
     "execution_count": 122,
     "metadata": {},
     "output_type": "execute_result"
    }
   ],
   "source": [
    "data4= yf.download(stocks_MS2, start=start, end=end)[\"Adj Close\"].dropna()\n",
    "data4.head()"
   ]
  },
  {
   "cell_type": "code",
   "execution_count": 123,
   "id": "613f9bb5",
   "metadata": {},
   "outputs": [
    {
     "data": {
      "text/html": [
       "<div>\n",
       "<style scoped>\n",
       "    .dataframe tbody tr th:only-of-type {\n",
       "        vertical-align: middle;\n",
       "    }\n",
       "\n",
       "    .dataframe tbody tr th {\n",
       "        vertical-align: top;\n",
       "    }\n",
       "\n",
       "    .dataframe thead th {\n",
       "        text-align: right;\n",
       "    }\n",
       "</style>\n",
       "<table border=\"1\" class=\"dataframe\">\n",
       "  <thead>\n",
       "    <tr style=\"text-align: right;\">\n",
       "      <th></th>\n",
       "      <th>JNJ</th>\n",
       "      <th>LMT</th>\n",
       "      <th>NSRGY</th>\n",
       "      <th>SIEGY</th>\n",
       "    </tr>\n",
       "    <tr>\n",
       "      <th>Date</th>\n",
       "      <th></th>\n",
       "      <th></th>\n",
       "      <th></th>\n",
       "      <th></th>\n",
       "    </tr>\n",
       "  </thead>\n",
       "  <tbody>\n",
       "    <tr>\n",
       "      <th>2020-11-23</th>\n",
       "      <td>NaN</td>\n",
       "      <td>NaN</td>\n",
       "      <td>NaN</td>\n",
       "      <td>NaN</td>\n",
       "    </tr>\n",
       "    <tr>\n",
       "      <th>2020-11-24</th>\n",
       "      <td>0.000000</td>\n",
       "      <td>0.020574</td>\n",
       "      <td>0.003692</td>\n",
       "      <td>0.006620</td>\n",
       "    </tr>\n",
       "    <tr>\n",
       "      <th>2020-11-25</th>\n",
       "      <td>-0.001321</td>\n",
       "      <td>-0.000370</td>\n",
       "      <td>0.004845</td>\n",
       "      <td>0.006277</td>\n",
       "    </tr>\n",
       "    <tr>\n",
       "      <th>2020-11-27</th>\n",
       "      <td>0.002227</td>\n",
       "      <td>-0.010573</td>\n",
       "      <td>0.006339</td>\n",
       "      <td>0.000446</td>\n",
       "    </tr>\n",
       "    <tr>\n",
       "      <th>2020-11-30</th>\n",
       "      <td>0.004722</td>\n",
       "      <td>-0.018131</td>\n",
       "      <td>-0.014462</td>\n",
       "      <td>-0.008759</td>\n",
       "    </tr>\n",
       "  </tbody>\n",
       "</table>\n",
       "</div>"
      ],
      "text/plain": [
       "                 JNJ       LMT     NSRGY     SIEGY\n",
       "Date                                              \n",
       "2020-11-23       NaN       NaN       NaN       NaN\n",
       "2020-11-24  0.000000  0.020574  0.003692  0.006620\n",
       "2020-11-25 -0.001321 -0.000370  0.004845  0.006277\n",
       "2020-11-27  0.002227 -0.010573  0.006339  0.000446\n",
       "2020-11-30  0.004722 -0.018131 -0.014462 -0.008759"
      ]
     },
     "execution_count": 123,
     "metadata": {},
     "output_type": "execute_result"
    }
   ],
   "source": [
    "returns4= data3.pct_change()\n",
    "returns4.head()"
   ]
  },
  {
   "cell_type": "code",
   "execution_count": 124,
   "id": "e2aa97f0",
   "metadata": {},
   "outputs": [
    {
     "data": {
      "text/html": [
       "<div>\n",
       "<style scoped>\n",
       "    .dataframe tbody tr th:only-of-type {\n",
       "        vertical-align: middle;\n",
       "    }\n",
       "\n",
       "    .dataframe tbody tr th {\n",
       "        vertical-align: top;\n",
       "    }\n",
       "\n",
       "    .dataframe thead th {\n",
       "        text-align: right;\n",
       "    }\n",
       "</style>\n",
       "<table border=\"1\" class=\"dataframe\">\n",
       "  <thead>\n",
       "    <tr style=\"text-align: right;\">\n",
       "      <th></th>\n",
       "      <th>JNJ</th>\n",
       "      <th>LMT</th>\n",
       "      <th>NSRGY</th>\n",
       "      <th>SIEGY</th>\n",
       "      <th>Portafolio_VOLAT</th>\n",
       "    </tr>\n",
       "    <tr>\n",
       "      <th>Date</th>\n",
       "      <th></th>\n",
       "      <th></th>\n",
       "      <th></th>\n",
       "      <th></th>\n",
       "      <th></th>\n",
       "    </tr>\n",
       "  </thead>\n",
       "  <tbody>\n",
       "    <tr>\n",
       "      <th>2020-11-24</th>\n",
       "      <td>1.000000</td>\n",
       "      <td>1.020574</td>\n",
       "      <td>1.003692</td>\n",
       "      <td>1.006620</td>\n",
       "      <td>1.005777</td>\n",
       "    </tr>\n",
       "    <tr>\n",
       "      <th>2020-11-25</th>\n",
       "      <td>0.998679</td>\n",
       "      <td>1.020197</td>\n",
       "      <td>1.008555</td>\n",
       "      <td>1.012938</td>\n",
       "      <td>1.007171</td>\n",
       "    </tr>\n",
       "    <tr>\n",
       "      <th>2020-11-27</th>\n",
       "      <td>1.000904</td>\n",
       "      <td>1.009411</td>\n",
       "      <td>1.014948</td>\n",
       "      <td>1.013389</td>\n",
       "      <td>1.008111</td>\n",
       "    </tr>\n",
       "    <tr>\n",
       "      <th>2020-11-30</th>\n",
       "      <td>1.005630</td>\n",
       "      <td>0.991109</td>\n",
       "      <td>1.000270</td>\n",
       "      <td>1.004513</td>\n",
       "      <td>1.000910</td>\n",
       "    </tr>\n",
       "    <tr>\n",
       "      <th>2020-12-01</th>\n",
       "      <td>1.024884</td>\n",
       "      <td>0.991082</td>\n",
       "      <td>1.007384</td>\n",
       "      <td>1.026027</td>\n",
       "      <td>1.012251</td>\n",
       "    </tr>\n",
       "  </tbody>\n",
       "</table>\n",
       "</div>"
      ],
      "text/plain": [
       "                 JNJ       LMT     NSRGY     SIEGY  Portafolio_VOLAT\n",
       "Date                                                                \n",
       "2020-11-24  1.000000  1.020574  1.003692  1.006620          1.005777\n",
       "2020-11-25  0.998679  1.020197  1.008555  1.012938          1.007171\n",
       "2020-11-27  1.000904  1.009411  1.014948  1.013389          1.008111\n",
       "2020-11-30  1.005630  0.991109  1.000270  1.004513          1.000910\n",
       "2020-12-01  1.024884  0.991082  1.007384  1.026027          1.012251"
      ]
     },
     "execution_count": 124,
     "metadata": {},
     "output_type": "execute_result"
    }
   ],
   "source": [
    "#Pesos Portafolio con menos volatilidad\n",
    "pesos4= np.array([0.4033156628193596,0.2019080255857481,0.3383691111993144,0.0564072003955779])\n",
    "\n",
    "Volatilidad = returns4[\"Portafolio_VOLAT\"]=returns4.dot(pesos4)\n",
    "Volatilidad\n",
    "\n",
    "#Calcular los retornos acumulados: Le sumaré 1 porque ahi invertí mi 100%\n",
    "returns4\n",
    "\n",
    "ret_acumuladoVolatilidad= (1+returns4).cumprod().dropna()\n",
    "ret_acumuladoVolatilidad.head()"
   ]
  },
  {
   "cell_type": "code",
   "execution_count": 146,
   "id": "cfa24e10",
   "metadata": {},
   "outputs": [
    {
     "data": {
      "text/html": [
       "\n",
       "        <iframe\n",
       "            width=\"100%\"\n",
       "            height=\"650\"\n",
       "            src=\"http://127.0.0.1:8050/\"\n",
       "            frameborder=\"0\"\n",
       "            allowfullscreen\n",
       "            \n",
       "        ></iframe>\n",
       "        "
      ],
      "text/plain": [
       "<IPython.lib.display.IFrame at 0x16a17cb8990>"
      ]
     },
     "metadata": {},
     "output_type": "display_data"
    }
   ],
   "source": [
    "# Inicializar la aplicación Dash\n",
    "app = dash.Dash(__name__)\n",
    "\n",
    "# Diseño del dashboard\n",
    "app.layout = html.Div([\n",
    "    html.H1(\"Dashboard de Retornos Acumulados\"),\n",
    "    \n",
    "    # Dropdown para seleccionar el dataset\n",
    "    dcc.Dropdown(\n",
    "        id='dataset-selector',\n",
    "        options=[\n",
    "            {'label': 'Volatilidad', 'value': 'volatilidad'},\n",
    "            {'label': 'Sharpe', 'value': 'sharpe'}\n",
    "        ],\n",
    "        value='volatilidad',\n",
    "        style={'width': '50%'}\n",
    "    ),\n",
    "    \n",
    "    # Filtro de fecha\n",
    "    dcc.DatePickerRange(\n",
    "        id='date-picker-range',\n",
    "        display_format='YYYY-MM-DD',\n",
    "    ),\n",
    "    \n",
    "    # Gráfica de líneas\n",
    "    dcc.Graph(id='line-plot'),\n",
    "])\n",
    "\n",
    "# Callback para actualizar la gráfica con el filtro de fecha y el dataset seleccionado\n",
    "@app.callback(\n",
    "    Output('line-plot', 'figure'),\n",
    "    [Input('date-picker-range', 'start_date'),\n",
    "     Input('date-picker-range', 'end_date'),\n",
    "     Input('dataset-selector', 'value')]\n",
    ")\n",
    "def update_graph(start_date, end_date, selected_dataset):\n",
    "    if selected_dataset == 'volatilidad':\n",
    "        filtered_data = ret_acumuladoVolatilidad.loc[start_date:end_date]\n",
    "        y_columns = [\"JNJ\", \"LMT\", \"NSRGY\", \"SIEGY\", \"Portafolio_VOLAT\"]\n",
    "    elif selected_dataset == 'sharpe':\n",
    "        filtered_data = ret_acumulado_sharpe.loc[start_date:end_date]\n",
    "        y_columns = [\"JNJ\", \"LMT\", \"NSRGY\", \"SIEGY\", \"Portafolio_SHARPE\"]\n",
    "    else:\n",
    "        # Manejar un caso por defecto o lanzar una excepción según tus necesidades\n",
    "        return px.line()\n",
    "\n",
    "    fig = px.line(filtered_data, x=filtered_data.index, y=y_columns, line_shape=\"linear\")\n",
    "    return fig\n",
    "\n",
    "# Ejecutar la aplicación\n",
    "if __name__ == '__main__':\n",
    "    app.run_server(debug=True)"
   ]
  },
  {
   "cell_type": "code",
   "execution_count": 152,
   "id": "0deccb0b",
   "metadata": {},
   "outputs": [
    {
     "data": {
      "text/html": [
       "<div>\n",
       "<style scoped>\n",
       "    .dataframe tbody tr th:only-of-type {\n",
       "        vertical-align: middle;\n",
       "    }\n",
       "\n",
       "    .dataframe tbody tr th {\n",
       "        vertical-align: top;\n",
       "    }\n",
       "\n",
       "    .dataframe thead th {\n",
       "        text-align: right;\n",
       "    }\n",
       "</style>\n",
       "<table border=\"1\" class=\"dataframe\">\n",
       "  <thead>\n",
       "    <tr style=\"text-align: right;\">\n",
       "      <th></th>\n",
       "      <th>JNJ</th>\n",
       "      <th>LMT</th>\n",
       "      <th>NSRGY</th>\n",
       "      <th>SIEGY</th>\n",
       "      <th>Portafolio_VOLAT</th>\n",
       "    </tr>\n",
       "    <tr>\n",
       "      <th>Date</th>\n",
       "      <th></th>\n",
       "      <th></th>\n",
       "      <th></th>\n",
       "      <th></th>\n",
       "      <th></th>\n",
       "    </tr>\n",
       "  </thead>\n",
       "  <tbody>\n",
       "    <tr>\n",
       "      <th>2020-11-24</th>\n",
       "      <td>1.000000</td>\n",
       "      <td>1.020574</td>\n",
       "      <td>1.003692</td>\n",
       "      <td>1.006620</td>\n",
       "      <td>1.005777</td>\n",
       "    </tr>\n",
       "    <tr>\n",
       "      <th>2020-11-25</th>\n",
       "      <td>0.998679</td>\n",
       "      <td>1.020197</td>\n",
       "      <td>1.008555</td>\n",
       "      <td>1.012938</td>\n",
       "      <td>1.007171</td>\n",
       "    </tr>\n",
       "    <tr>\n",
       "      <th>2020-11-27</th>\n",
       "      <td>1.000904</td>\n",
       "      <td>1.009411</td>\n",
       "      <td>1.014948</td>\n",
       "      <td>1.013389</td>\n",
       "      <td>1.008111</td>\n",
       "    </tr>\n",
       "    <tr>\n",
       "      <th>2020-11-30</th>\n",
       "      <td>1.005630</td>\n",
       "      <td>0.991109</td>\n",
       "      <td>1.000270</td>\n",
       "      <td>1.004513</td>\n",
       "      <td>1.000910</td>\n",
       "    </tr>\n",
       "    <tr>\n",
       "      <th>2020-12-01</th>\n",
       "      <td>1.024884</td>\n",
       "      <td>0.991082</td>\n",
       "      <td>1.007384</td>\n",
       "      <td>1.026027</td>\n",
       "      <td>1.012251</td>\n",
       "    </tr>\n",
       "    <tr>\n",
       "      <th>...</th>\n",
       "      <td>...</td>\n",
       "      <td>...</td>\n",
       "      <td>...</td>\n",
       "      <td>...</td>\n",
       "      <td>...</td>\n",
       "    </tr>\n",
       "    <tr>\n",
       "      <th>2023-11-16</th>\n",
       "      <td>1.122023</td>\n",
       "      <td>1.304682</td>\n",
       "      <td>1.075475</td>\n",
       "      <td>1.303589</td>\n",
       "      <td>1.186344</td>\n",
       "    </tr>\n",
       "    <tr>\n",
       "      <th>2023-11-17</th>\n",
       "      <td>1.119706</td>\n",
       "      <td>1.302018</td>\n",
       "      <td>1.080131</td>\n",
       "      <td>1.323375</td>\n",
       "      <td>1.187621</td>\n",
       "    </tr>\n",
       "    <tr>\n",
       "      <th>2023-11-20</th>\n",
       "      <td>1.129577</td>\n",
       "      <td>1.299470</td>\n",
       "      <td>1.073244</td>\n",
       "      <td>1.320432</td>\n",
       "      <td>1.188663</td>\n",
       "    </tr>\n",
       "    <tr>\n",
       "      <th>2023-11-21</th>\n",
       "      <td>1.138694</td>\n",
       "      <td>1.312178</td>\n",
       "      <td>1.092742</td>\n",
       "      <td>1.319941</td>\n",
       "      <td>1.202161</td>\n",
       "    </tr>\n",
       "    <tr>\n",
       "      <th>2023-11-22</th>\n",
       "      <td>1.136433</td>\n",
       "      <td>1.318766</td>\n",
       "      <td>1.098465</td>\n",
       "      <td>1.328608</td>\n",
       "      <td>1.204993</td>\n",
       "    </tr>\n",
       "  </tbody>\n",
       "</table>\n",
       "<p>754 rows × 5 columns</p>\n",
       "</div>"
      ],
      "text/plain": [
       "                 JNJ       LMT     NSRGY     SIEGY  Portafolio_VOLAT\n",
       "Date                                                                \n",
       "2020-11-24  1.000000  1.020574  1.003692  1.006620          1.005777\n",
       "2020-11-25  0.998679  1.020197  1.008555  1.012938          1.007171\n",
       "2020-11-27  1.000904  1.009411  1.014948  1.013389          1.008111\n",
       "2020-11-30  1.005630  0.991109  1.000270  1.004513          1.000910\n",
       "2020-12-01  1.024884  0.991082  1.007384  1.026027          1.012251\n",
       "...              ...       ...       ...       ...               ...\n",
       "2023-11-16  1.122023  1.304682  1.075475  1.303589          1.186344\n",
       "2023-11-17  1.119706  1.302018  1.080131  1.323375          1.187621\n",
       "2023-11-20  1.129577  1.299470  1.073244  1.320432          1.188663\n",
       "2023-11-21  1.138694  1.312178  1.092742  1.319941          1.202161\n",
       "2023-11-22  1.136433  1.318766  1.098465  1.328608          1.204993\n",
       "\n",
       "[754 rows x 5 columns]"
      ]
     },
     "execution_count": 152,
     "metadata": {},
     "output_type": "execute_result"
    }
   ],
   "source": [
    "\n",
    "ret_acumulado_sharpe\n",
    "ret_acumuladoVolatilidad"
   ]
  }
 ],
 "metadata": {
  "kernelspec": {
   "display_name": "Python 3 (ipykernel)",
   "language": "python",
   "name": "python3"
  },
  "language_info": {
   "codemirror_mode": {
    "name": "ipython",
    "version": 3
   },
   "file_extension": ".py",
   "mimetype": "text/x-python",
   "name": "python",
   "nbconvert_exporter": "python",
   "pygments_lexer": "ipython3",
   "version": "3.11.3"
  }
 },
 "nbformat": 4,
 "nbformat_minor": 5
}
